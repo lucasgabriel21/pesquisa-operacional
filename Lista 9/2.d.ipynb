{
 "cells": [
  {
   "cell_type": "markdown",
   "id": "92b23768",
   "metadata": {},
   "source": [
    "## Heurística de melhoria 2-opt (2 nós)"
   ]
  },
  {
   "cell_type": "code",
   "execution_count": 128,
   "id": "b9d65e62",
   "metadata": {},
   "outputs": [],
   "source": [
    "# Dados\n",
    "Cidades = [1, 2, 3, 4, 5, 6]\n",
    "# Parâmetros\n",
    "distancia = {(1, 2): 186, (1, 3): 105, (1, 4): 208, (1, 5): 177, (1, 6): 94, \n",
    "              (2, 1): 187, (2, 3): 89.8, (2, 4): 223, (2, 5): 255, (2, 6): 254, \n",
    "              (3, 1): 99.9, (3, 2): 89, (3, 4): 203, (3, 5): 204, (3, 6): 172, \n",
    "              (4, 2): 220, (4, 3): 203, (4, 1): 206, (4, 5): 377, (4, 6): 295, \n",
    "              (5, 2): 251, (5, 3): 201, (5, 4): 376, (5, 1): 168, (5, 6): 156, \n",
    "              (6, 2): 255, (6, 3): 173, (6, 4): 293, (6, 5): 159, (6, 1): 86.8}"
   ]
  },
  {
   "cell_type": "code",
   "execution_count": 129,
   "id": "42e1ff4f",
   "metadata": {},
   "outputs": [],
   "source": [
    "def calc_distancia(rota):\n",
    "    dist = 0\n",
    "    for p, c in enumerate(rota):\n",
    "        if p + 1 < len(rota):\n",
    "            dist += distancia[rota[p], rota[p + 1]]\n",
    "    return dist"
   ]
  },
  {
   "cell_type": "code",
   "execution_count": 130,
   "id": "63f8974e",
   "metadata": {},
   "outputs": [],
   "source": [
    "rota_atual = [1, 6, 5, 3, 2, 4, 1]"
   ]
  },
  {
   "cell_type": "code",
   "execution_count": 131,
   "id": "d72ac1b7",
   "metadata": {},
   "outputs": [],
   "source": [
    "# 1. Inicialização de i\n",
    "i = 1"
   ]
  },
  {
   "cell_type": "code",
   "execution_count": 132,
   "id": "c6ee5078",
   "metadata": {},
   "outputs": [
    {
     "name": "stdout",
     "output_type": "stream",
     "text": [
      "Iteração 1 [1, 5, 6, 3, 2, 4, 1] 1024.00\n",
      "Iteração 2 [1, 6, 3, 5, 2, 4, 1] 1151.00\n",
      "Iteração 3 [1, 6, 5, 2, 3, 4, 1] 1002.80\n",
      "Iteração 4 [1, 6, 5, 3, 4, 2, 1] 1064.00\n"
     ]
    }
   ],
   "source": [
    "while i < len(rota) - 2:\n",
    "    # 2. Inversão da posição dos nós i e i + 1\n",
    "    rota = rota_atual.copy()\n",
    "    a1 = rota[i]\n",
    "    a2 = rota[i + 1]\n",
    "    rota[i] = a2\n",
    "    rota[i + 1] = a1\n",
    "    \n",
    "    print(f'Iteração {i}', rota, '{:.2f}'.format(calc_distancia(rota)))\n",
    "    \n",
    "    # 3. Se a nova rota tem menor distância, substitui a rota atual\n",
    "    if calc_distancia(rota) < calc_distancia(rota_atual):\n",
    "        rota_atual = rota\n",
    "    \n",
    "    # 4. Atualiza o contador de iterações\n",
    "    i += 1"
   ]
  },
  {
   "cell_type": "code",
   "execution_count": 133,
   "id": "b3e2e548",
   "metadata": {},
   "outputs": [
    {
     "data": {
      "text/plain": [
       "[1, 6, 5, 3, 2, 4, 1]"
      ]
     },
     "execution_count": 133,
     "metadata": {},
     "output_type": "execute_result"
    }
   ],
   "source": [
    "rota_atual"
   ]
  },
  {
   "cell_type": "code",
   "execution_count": 134,
   "id": "c9d2a6dd",
   "metadata": {},
   "outputs": [
    {
     "data": {
      "text/plain": [
       "972"
      ]
     },
     "execution_count": 134,
     "metadata": {},
     "output_type": "execute_result"
    }
   ],
   "source": [
    "calc_distancia(rota_atual)"
   ]
  },
  {
   "cell_type": "code",
   "execution_count": null,
   "id": "fcb32d12",
   "metadata": {},
   "outputs": [],
   "source": []
  }
 ],
 "metadata": {
  "kernelspec": {
   "display_name": "Python 3 (ipykernel)",
   "language": "python",
   "name": "python3"
  },
  "language_info": {
   "codemirror_mode": {
    "name": "ipython",
    "version": 3
   },
   "file_extension": ".py",
   "mimetype": "text/x-python",
   "name": "python",
   "nbconvert_exporter": "python",
   "pygments_lexer": "ipython3",
   "version": "3.10.5"
  }
 },
 "nbformat": 4,
 "nbformat_minor": 5
}
