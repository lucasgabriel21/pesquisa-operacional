{
 "cells": [
  {
   "cell_type": "markdown",
   "id": "58536761",
   "metadata": {
    "id": "58536761"
   },
   "source": [
    "## Heurística do vizinho mais próximo"
   ]
  },
  {
   "cell_type": "code",
   "execution_count": null,
   "id": "f1db8c3a",
   "metadata": {
    "id": "f1db8c3a"
   },
   "outputs": [],
   "source": [
    "# Dados\n",
    "Cidades = [1, 2, 3, 4, 5, 6]\n",
    "# Parâmetros\n",
    "distancias = {(1, 2): 186, (1, 3): 105, (1, 4): 208, (1, 5): 177, (1, 6): 94, \n",
    "              (2, 1): 187, (2, 3): 89.8, (2, 4): 223, (2, 5): 255, (2, 6): 254, \n",
    "              (3, 1): 99.9, (3, 2): 89, (3, 4): 203, (3, 5): 204, (3, 6): 172, \n",
    "              (4, 2): 220, (4, 3): 203, (4, 1): 206, (4, 5): 377, (4, 6): 295, \n",
    "              (5, 2): 251, (5, 3): 201, (5, 4): 376, (5, 1): 168, (5, 6): 156, \n",
    "              (6, 2): 255, (6, 3): 173, (6, 4): 293, (6, 5): 159, (6, 1): 86.8}"
   ]
  },
  {
   "cell_type": "code",
   "execution_count": null,
   "id": "b110a475",
   "metadata": {
    "id": "b110a475"
   },
   "outputs": [],
   "source": [
    "def proxima_cidade(i, lista_cidades, distancias, rota):\n",
    "    cont = 0\n",
    "    for c in lista_cidades:\n",
    "        if c not in rota:\n",
    "            if cont == 0:\n",
    "                a = c\n",
    "                j = c\n",
    "            elif distancias[i, c] <= distancias[i, a]:\n",
    "                a = c\n",
    "                j = c\n",
    "            cont += 1\n",
    "    return j"
   ]
  },
  {
   "cell_type": "code",
   "execution_count": null,
   "id": "bf9df593",
   "metadata": {
    "id": "bf9df593"
   },
   "outputs": [],
   "source": [
    "# 1. Inicializa a rota na primeira cidade\n",
    "rota = [1]\n",
    "# 2. Inicializa contador de distâncias\n",
    "d = 0"
   ]
  },
  {
   "cell_type": "code",
   "execution_count": null,
   "id": "5cf59a87",
   "metadata": {
    "id": "5cf59a87"
   },
   "outputs": [],
   "source": [
    "while sum(rota) != sum(Cidades):\n",
    "    # 3. i recebe o último nó da rota\n",
    "    i = rota[-1]\n",
    "    # 4. j recebe o nó mais próximo a i que não foi visitado\n",
    "    j = proxima_cidade(i, Cidades, distancias, rota)\n",
    "    # 5. Adiciona j à rota\n",
    "    rota.append(j)\n",
    "    # 6. Atualiza a distância\n",
    "    d += distancias[rota[-2], rota[-1]]\n",
    "    # 7. Loop ocorre enquanto todos os nós não forem visitados"
   ]
  },
  {
   "cell_type": "code",
   "execution_count": null,
   "id": "bcc55255",
   "metadata": {
    "id": "bcc55255"
   },
   "outputs": [],
   "source": [
    "# 8. Adiciona o primeiro nó à rota\n",
    "rota.append(1)\n",
    "# 9. Cálculo final da distância\n",
    "d += distancias[rota[-2], rota[-1]]"
   ]
  },
  {
   "cell_type": "code",
   "execution_count": null,
   "id": "a2614130",
   "metadata": {
    "id": "a2614130",
    "outputId": "c3cd99e4-48f1-4821-dfb5-8175671457ad"
   },
   "outputs": [
    {
     "data": {
      "text/plain": [
       "[1, 6, 5, 3, 2, 4, 1]"
      ]
     },
     "execution_count": 13,
     "metadata": {},
     "output_type": "execute_result"
    }
   ],
   "source": [
    "rota"
   ]
  },
  {
   "cell_type": "code",
   "execution_count": null,
   "id": "5ca45e50",
   "metadata": {
    "id": "5ca45e50",
    "outputId": "5a59917c-d510-49b2-fbef-4e1264023bc1"
   },
   "outputs": [
    {
     "data": {
      "text/plain": [
       "972"
      ]
     },
     "execution_count": 14,
     "metadata": {},
     "output_type": "execute_result"
    }
   ],
   "source": [
    "d"
   ]
  }
 ],
 "metadata": {
  "colab": {
   "name": "2.c.vizinho.ipynb",
   "provenance": []
  },
  "kernelspec": {
   "display_name": "Python 3 (ipykernel)",
   "language": "python",
   "name": "python3"
  },
  "language_info": {
   "codemirror_mode": {
    "name": "ipython",
    "version": 3
   },
   "file_extension": ".py",
   "mimetype": "text/x-python",
   "name": "python",
   "nbconvert_exporter": "python",
   "pygments_lexer": "ipython3",
   "version": "3.9.5"
  }
 },
 "nbformat": 4,
 "nbformat_minor": 5
}
