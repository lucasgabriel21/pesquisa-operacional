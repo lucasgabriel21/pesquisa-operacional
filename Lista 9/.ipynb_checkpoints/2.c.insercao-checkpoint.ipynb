{
 "cells": [
  {
   "cell_type": "markdown",
   "id": "58536761",
   "metadata": {},
   "source": [
    "## Heurística de inserção"
   ]
  },
  {
   "cell_type": "code",
   "execution_count": 225,
   "id": "f1db8c3a",
   "metadata": {},
   "outputs": [],
   "source": [
    "# Dados\n",
    "Cidades = [1, 2, 3, 4, 5, 6]\n",
    "# Parâmetros\n",
    "distancia = {(1, 2): 186, (1, 3): 105, (1, 4): 208, (1, 5): 177, (1, 6): 94, \n",
    "             (2, 1): 187, (2, 3): 89.8, (2, 4): 223, (2, 5): 255, (2, 6): 254, \n",
    "             (3, 1): 99.9, (3, 2): 89, (3, 4): 203, (3, 5): 204, (3, 6): 172, \n",
    "             (4, 2): 220, (4, 3): 203, (4, 1): 206, (4, 5): 377, (4, 6): 295, \n",
    "             (5, 2): 251, (5, 3): 201, (5, 4): 376, (5, 1): 168, (5, 6): 156, \n",
    "             (6, 2): 255, (6, 3): 173, (6, 4): 293, (6, 5): 159, (6, 1): 86.8}"
   ]
  },
  {
   "cell_type": "code",
   "execution_count": 226,
   "id": "bf9df593",
   "metadata": {},
   "outputs": [],
   "source": [
    "# 1. Inicializa a rota inicial, k é a cidade mais distante de 1\n",
    "u = 0\n",
    "for i in Cidades:\n",
    "    if i != 1:\n",
    "        if distancia[i, 1] > u:\n",
    "            k = i\n",
    "            u = distancia[i, 1]\n",
    "\n",
    "rota = [1, k, 1]"
   ]
  },
  {
   "cell_type": "code",
   "execution_count": 227,
   "id": "d6b44625",
   "metadata": {},
   "outputs": [],
   "source": [
    "# 2. Inicializa contador de distâncias\n",
    "d = distancia[1, k] + distancia[k, 1]"
   ]
  },
  {
   "cell_type": "code",
   "execution_count": 228,
   "id": "b007e5a6",
   "metadata": {},
   "outputs": [],
   "source": [
    "while sum(rota) - rota[-1] != sum(Cidades):\n",
    "    # 3. Encontrar nó j mais distante da rota que ainda não foi visitado\n",
    "    s = {}\n",
    "    temp = []\n",
    "    for n in Cidades:\n",
    "        if n not in rota:\n",
    "            for c in rota:\n",
    "                temp.append(distancia[n, c])\n",
    "            s[n] = min(temp)\n",
    "            temp = []\n",
    "            \n",
    "    j = max(s, key=s.get)\n",
    "    \n",
    "    # 4. Obter dois nós i e k na rota para inserir j entre eles\n",
    "    s = {}\n",
    "    pares = []\n",
    "    for posicao, n in enumerate(rota):\n",
    "        i = n\n",
    "        if posicao + 1 < len(rota):\n",
    "            k = rota[posicao + 1]\n",
    "            pares.append((posicao, posicao + 1))\n",
    "            s[pares[-1]] = distancia[i, j] + distancia[j, k] - distancia[i, k] \n",
    "\n",
    "    p = min(s, key=s.get)\n",
    "    \n",
    "    # 5. Atualização da distância\n",
    "    d += distancia[rota[p[0]], j] + distancia[j, rota[p[1]]] - distancia[rota[p[0]], rota[p[1]]]\n",
    "    \n",
    "    # 6. Inserção de j à rota entre os nós i e k\n",
    "    rota.insert(p[1], j)\n",
    "    \n",
    "    # 7. repete enquanto todas as cidades não forem percorridas"
   ]
  },
  {
   "cell_type": "code",
   "execution_count": 229,
   "id": "e23a3138",
   "metadata": {},
   "outputs": [
    {
     "data": {
      "text/plain": [
       "[1, 6, 5, 3, 2, 4, 1]"
      ]
     },
     "execution_count": 229,
     "metadata": {},
     "output_type": "execute_result"
    }
   ],
   "source": [
    "rota"
   ]
  },
  {
   "cell_type": "code",
   "execution_count": 230,
   "id": "c3f0fe3c",
   "metadata": {},
   "outputs": [
    {
     "data": {
      "text/plain": [
       "972"
      ]
     },
     "execution_count": 230,
     "metadata": {},
     "output_type": "execute_result"
    }
   ],
   "source": [
    "d"
   ]
  }
 ],
 "metadata": {
  "kernelspec": {
   "display_name": "Python 3 (ipykernel)",
   "language": "python",
   "name": "python3"
  },
  "language_info": {
   "codemirror_mode": {
    "name": "ipython",
    "version": 3
   },
   "file_extension": ".py",
   "mimetype": "text/x-python",
   "name": "python",
   "nbconvert_exporter": "python",
   "pygments_lexer": "ipython3",
   "version": "3.9.5"
  }
 },
 "nbformat": 4,
 "nbformat_minor": 5
}
