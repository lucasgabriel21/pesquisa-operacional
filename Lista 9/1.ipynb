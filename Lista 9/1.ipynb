{
 "cells": [
  {
   "cell_type": "code",
   "execution_count": 43,
   "id": "367d2192",
   "metadata": {},
   "outputs": [],
   "source": [
    "# Bibliotecas\n",
    "from pyomo.environ import *\n",
    "from pyomo.opt import SolverFactory"
   ]
  },
  {
   "cell_type": "code",
   "execution_count": 44,
   "id": "edcdd14a",
   "metadata": {},
   "outputs": [],
   "source": [
    "# Dados\n",
    "# Conjuntos\n",
    "Cidades = [i for i in range(1, 8)]\n",
    "# Parâmetros\n",
    "custo_i_j = {(1, 2): 3, (1, 3): 7, (1, 4): 9, (2, 5): 11, (2, 6): 7, \n",
    "             (3, 5): 2, (3, 6): 9, (4, 5): 1, (4, 6): 9, (5, 7): 8, (6, 7): 2}\n",
    "precedencia = [(1, 2), (1, 3), (1, 4), (2, 5), (2, 6), (3, 5), (3, 6), (4, 5), (4, 6), (5, 7), (6, 7)]"
   ]
  },
  {
   "cell_type": "code",
   "execution_count": 45,
   "id": "7a255f6e",
   "metadata": {
    "scrolled": false
   },
   "outputs": [],
   "source": [
    "# Modelo\n",
    "model = ConcreteModel()\n",
    "\n",
    "# Conjuntos\n",
    "model.I = Set(initialize=Cidades)\n",
    "I = model.I\n",
    "\n",
    "# Parâmetros\n",
    "model.c = Param(I * I, initialize=custo_i_j, within=NonNegativeReals)\n",
    "c = model.c\n",
    "\n",
    "# Variáveis de decisão\n",
    "model.x = Var(I * I, within=Binary)\n",
    "x = model.x\n",
    "\n",
    "# Objetivo\n",
    "model.obj = Objective(expr=sum(sum(c[i, j] * x[i, j] for j in I if (i, j) in precedencia) for i in I))\n",
    "\n",
    "# Restrições\n",
    "# Caminho inicia na origem\n",
    "model.r_origem = ConstraintList()\n",
    "model.r_origem.add(expr=sum(x[1, j] for j in I if (1, j) in precedencia) == 1)\n",
    "# Caminho termina na cidade de destino\n",
    "model.r_destino = ConstraintList()\n",
    "model.r_destino.add(expr=sum(x[i, 7] for i in I if (i, 7) in precedencia) == 1)\n",
    "# Entrada = Saída\n",
    "model.r_fluxo = ConstraintList()\n",
    "for h in I:\n",
    "    if h != 1 and h != 7:\n",
    "        model.r_fluxo.add(expr=sum(x[i, h] for i in I if (i, h) in precedencia\n",
    "                                  ) == sum(x[h, j] for j in I if (h, j) in precedencia))\n",
    "\n",
    "# model.pprint()"
   ]
  },
  {
   "cell_type": "code",
   "execution_count": 46,
   "id": "1d9eeec5",
   "metadata": {},
   "outputs": [],
   "source": [
    "# Resolução\n",
    "solver = SolverFactory('glpk', executable='/usr/bin/glpsol')\n",
    "resultado = solver.solve(model, tee = False)"
   ]
  },
  {
   "cell_type": "code",
   "execution_count": 55,
   "id": "2076f8de",
   "metadata": {},
   "outputs": [
    {
     "name": "stdout",
     "output_type": "stream",
     "text": [
      "Caminho:\n",
      "Cidade 1 à cidade 2\n",
      "Cidade 2 à cidade 6\n",
      "Cidade 6 à cidade 7\n",
      "\n",
      "Custo mínimo: 12.00\n"
     ]
    }
   ],
   "source": [
    "# Apresentação de resultados\n",
    "if (resultado.solver.status == SolverStatus.ok) and (resultado.solver.termination_condition != TerminationCondition.infeasible):\n",
    "    print('Caminho:')\n",
    "    for par in precedencia:\n",
    "        i = par[0]\n",
    "        j = par[1]\n",
    "        if value(x[i, j]) == 1:\n",
    "            print('Cidade {} à cidade {}'.format(i, j))\n",
    "    print()\n",
    "    print('Custo mínimo: {:.2f}'.format(value(model.obj)))\n",
    "else:\n",
    "    print(resultado.solver.termination_condition)"
   ]
  }
 ],
 "metadata": {
  "kernelspec": {
   "display_name": "Python 3 (ipykernel)",
   "language": "python",
   "name": "python3"
  },
  "language_info": {
   "codemirror_mode": {
    "name": "ipython",
    "version": 3
   },
   "file_extension": ".py",
   "mimetype": "text/x-python",
   "name": "python",
   "nbconvert_exporter": "python",
   "pygments_lexer": "ipython3",
   "version": "3.10.5"
  }
 },
 "nbformat": 4,
 "nbformat_minor": 5
}
