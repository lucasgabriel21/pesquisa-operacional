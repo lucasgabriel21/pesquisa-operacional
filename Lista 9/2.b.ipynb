{
 "cells": [
  {
   "cell_type": "code",
   "execution_count": 2,
   "id": "b218ef7f",
   "metadata": {},
   "outputs": [],
   "source": [
    "from pyomo.environ import *\n",
    "from pyomo.opt import SolverFactory"
   ]
  },
  {
   "cell_type": "code",
   "execution_count": 3,
   "id": "16f832e3",
   "metadata": {},
   "outputs": [],
   "source": [
    "# Dados\n",
    "Cidades = ['SC', 'FR', 'RP', 'SJRP', 'PC', 'LI']\n",
    "# Parâmetros\n",
    "distancia_i_j = {('SC', 'FR'): 186, ('SC', 'RP'): 105, ('SC', 'SJRP'): 208, ('SC', 'PC'): 177, ('SC', 'LI'): 94, \n",
    "                 ('FR', 'SC'): 187, ('FR', 'RP'): 89.8, ('FR', 'SJRP'): 223, ('FR', 'PC'): 255, ('FR', 'LI'): 254, \n",
    "                 ('RP', 'SC'): 99.9, ('RP', 'FR'): 89, ('RP', 'SJRP'): 203, ('RP', 'PC'): 204, ('RP', 'LI'): 172, \n",
    "                 ('SJRP', 'FR'): 220, ('SJRP', 'RP'): 203, ('SJRP', 'SC'): 206, ('SJRP', 'PC'): 377, ('SJRP', 'LI'): 295, \n",
    "                 ('PC', 'FR'): 251, ('PC', 'RP'): 201, ('PC', 'SJRP'): 376, ('PC', 'SC'): 168, ('PC', 'LI'): 156, \n",
    "                 ('LI', 'FR'): 255, ('LI', 'RP'): 173, ('LI', 'SJRP'): 293, ('LI', 'PC'): 159, ('LI', 'SC'): 86.8}"
   ]
  },
  {
   "cell_type": "code",
   "execution_count": 4,
   "id": "afbe37a1",
   "metadata": {
    "scrolled": false
   },
   "outputs": [],
   "source": [
    "# Modelo\n",
    "model = ConcreteModel()\n",
    "\n",
    "# Conjuntos\n",
    "model.I = Set(initialize=Cidades)\n",
    "I = model.I\n",
    "\n",
    "# Parâmetros\n",
    "model.D = Param(I * I, initialize=distancia_i_j, within=NonNegativeReals)\n",
    "D = model.D\n",
    "\n",
    "# Variáveis de decisão\n",
    "model.x = Var(I * I, within=Binary)\n",
    "    # Nova variável que conta o número de visitas antes do nó i\n",
    "model.u = Var(I, within=NonNegativeReals)\n",
    "x, u = model.x, model.u\n",
    "\n",
    "# Função objetivo\n",
    "model.obj = Objective(expr=sum(sum(D[i, j] * x[i, j] for j in I if i != j) for i in I))\n",
    "\n",
    "# Restrições\n",
    "# Uma cidade visitada por vez\n",
    "model.r_visitada = ConstraintList()\n",
    "for i in I:\n",
    "    model.r_visitada.add(expr=sum(x[i, j] for j in I if j != i) == 1)\n",
    "# Cada cidade tem uma única antecessora\n",
    "model.r_antecessora = ConstraintList()\n",
    "for j in I:\n",
    "    model.r_antecessora.add(expr=sum(x[i, j] for i in I if i != j) == 1)\n",
    "# Nós precedentes visitados\n",
    "model.r_nos = ConstraintList()\n",
    "model.r_nos.add(expr=u['SC']==0)\n",
    "for i in I:\n",
    "    for j in I:\n",
    "        if j != 'SC' and i != j:\n",
    "            model.r_nos.add(expr=u[j] >= u[i] + x[i, j] - 6 * (1 - x[i, j]))\n",
    "\n",
    "# model.pprint()"
   ]
  },
  {
   "cell_type": "code",
   "execution_count": 5,
   "id": "1d9eeec5",
   "metadata": {},
   "outputs": [],
   "source": [
    "# Resolução\n",
    "solver = SolverFactory('glpk')\n",
    "resultado = solver.solve(model, tee = False)"
   ]
  },
  {
   "cell_type": "code",
   "execution_count": 6,
   "id": "90cbe68d",
   "metadata": {},
   "outputs": [
    {
     "name": "stdout",
     "output_type": "stream",
     "text": [
      "x[SC,SJRP]\n",
      "x[FR,RP]\n",
      "x[RP,PC]\n",
      "x[SJRP,FR]\n",
      "x[PC,LI]\n",
      "x[LI,SC]\n",
      "\n",
      "Valor ótimo: 964.60\n"
     ]
    }
   ],
   "source": [
    "# Apresentação de resultados\n",
    "if (resultado.solver.status == SolverStatus.ok) and (resultado.solver.termination_condition != TerminationCondition.infeasible):\n",
    "    for i in I:\n",
    "        for j in I:\n",
    "            if i != j:\n",
    "                if value(x[i, j]) == 1:\n",
    "                    print(x[i, j])\n",
    "    print()\n",
    "    print('Valor ótimo: {:.2f}'.format(value(model.obj)))\n",
    "else:\n",
    "    print(resultado.solver.termination_condition)"
   ]
  }
 ],
 "metadata": {
  "kernelspec": {
   "display_name": "Python 3 (ipykernel)",
   "language": "python",
   "name": "python3"
  },
  "language_info": {
   "codemirror_mode": {
    "name": "ipython",
    "version": 3
   },
   "file_extension": ".py",
   "mimetype": "text/x-python",
   "name": "python",
   "nbconvert_exporter": "python",
   "pygments_lexer": "ipython3",
   "version": "3.9.5"
  }
 },
 "nbformat": 4,
 "nbformat_minor": 5
}
