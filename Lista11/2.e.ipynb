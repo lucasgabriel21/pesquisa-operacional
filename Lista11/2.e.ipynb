{
 "cells": [
  {
   "cell_type": "code",
   "execution_count": 3,
   "id": "4596021a",
   "metadata": {},
   "outputs": [
    {
     "data": {
      "image/png": "[encoded data removed]",
      "text/plain": [
       "<IPython.core.display.Image object>"
      ]
     },
     "execution_count": 3,
     "metadata": {},
     "output_type": "execute_result"
    }
   ],
   "source": [
    "from IPython.display import Image\n",
    "Image(filename='images/2e.png')"
   ]
  },
  {
   "cell_type": "code",
   "execution_count": 95,
   "id": "a7d56fd6",
   "metadata": {},
   "outputs": [],
   "source": [
    "# Bibliotecas\n",
    "import pyomo.environ as pyo\n",
    "from pyomo.environ import *\n",
    "from pyomo.opt import SolverFactory\n",
    "import xlwings as xw\n",
    "import pandas as pd"
   ]
  },
  {
   "cell_type": "code",
   "execution_count": 96,
   "id": "bb1f3932",
   "metadata": {},
   "outputs": [],
   "source": [
    "# Conexão com a planilha\n",
    "wb = xw.Book('dados_1.xlsx')\n",
    "sheet = wb.sheets['Plan3']"
   ]
  },
  {
   "cell_type": "code",
   "execution_count": 97,
   "id": "0ed85d8a",
   "metadata": {},
   "outputs": [],
   "source": [
    "# Conjuntos\n",
    "Clientes = sheet.range('D2:H2').value; n = len(Clientes)  # Número de clientes\n",
    "Nos = sheet.range('C2:I2').value"
   ]
  },
  {
   "cell_type": "code",
   "execution_count": 98,
   "id": "8d37aed5",
   "metadata": {},
   "outputs": [],
   "source": [
    "# Parâmetros:\n",
    "distancias = sheet.range('B2:I9').options(pd.DataFrame).value.stack().to_dict()\n",
    "n_caminhoes = sheet.range('B11').value\n",
    "capacidade = sheet.range('B12').value\n",
    "velocidade = sheet.range('B13').value\n",
    "demanda = sheet.range('D12:E18').options(dict).value\n",
    "tempo_inicial = sheet.range('A21:B27').options(dict).value\n",
    "tempo_final = sheet.range('D21:E27').options(dict).value\n",
    "tempo_servico = sheet.range('G21:H27').options(dict).value"
   ]
  },
  {
   "cell_type": "code",
   "execution_count": 99,
   "id": "3838601a",
   "metadata": {},
   "outputs": [],
   "source": [
    "# Modelo\n",
    "model = ConcreteModel()\n",
    "\n",
    "# Conjuntos\n",
    "model.C = Set(initialize=Clientes)\n",
    "model.N = Set(initialize=Nos)\n",
    "C, N = model.C, model.N\n",
    "\n",
    "# Parâmetros\n",
    "model.D = Param(N * N, initialize=distancias, within=NonNegativeReals)\n",
    "model.c = Param(initialize=n_caminhoes, within=NonNegativeReals)\n",
    "model.Q = Param(initialize=capacidade, within=NonNegativeReals)\n",
    "model.v = Param(initialize=velocidade, within=NonNegativeReals)\n",
    "model.a = Param(N, initialize=demanda, within=NonNegativeReals)\n",
    "model.I = Param(N, initialize=tempo_inicial, within=NonNegativeReals)\n",
    "model.F = Param(N, initialize=tempo_final, within=NonNegativeReals)\n",
    "model.S = Param(N, initialize=tempo_servico, within=NonNegativeReals)\n",
    "D, c, Q, v, a, I, F, S = (model.D, model.c, model.Q, model.v, model.a,\n",
    "                          model.I, model.F, model.S)\n",
    "\n",
    "# Variáveis de decisão\n",
    "model.x = Var(N * N, within=Binary)\n",
    "model.u = Var(N, within=NonNegativeReals)\n",
    "model.w = Var(N, within=NonNegativeReals)\n",
    "x, u, w = model.x, model.u, model.w\n",
    "\n",
    "# Função objetivo\n",
    "model.obj = Objective(expr=sum(sum(D[i, j] * x[i, j] for j in N) for i in N))\n",
    "\n",
    "# Restrições\n",
    "# 1. Cada cliente visitado uma vez\n",
    "model.r_visita = ConstraintList()\n",
    "for i in C:\n",
    "    model.r_visita.add(expr=sum(x[i, j] for j in N if (j > 0 and j != i)) == 1)\n",
    "    \n",
    "# 2. Mesmo veículo visita antecessor/sucessor\n",
    "model.r_sucessor = ConstraintList()\n",
    "for h in C:\n",
    "    model.r_sucessor.add(expr=sum(x[i, h] for i in N if (i < n + 1 and i != h)) == sum(x[h, j] for j in N if (j > 0 and j != h)))\n",
    "    \n",
    "# 3. Veículo deve sair do depósito\n",
    "model.r_saida = ConstraintList()\n",
    "model.r_saida.add(expr=sum(x[0, j] for j in N if j > 0) <= 10**5)\n",
    "\n",
    "# 4. Veículo deve voltar ao depósito\n",
    "model.r_volta = ConstraintList()\n",
    "model.r_volta.add(expr=sum(x[i, n + 1] for i in N if (i < n + 1)) <= 10**5)\n",
    "\n",
    "# 5. Consistência das rotas\n",
    "model.r_fluxo = ConstraintList()\n",
    "model.r_fluxo.add(expr=sum(x[0, j] for j in N if j > 0) == sum(x[i, n + 1] for i in N if (i < n + 1)))\n",
    "\n",
    "# 6. Restrição MTZ\n",
    "model.r_MTZ = ConstraintList()\n",
    "model.r_MTZ.add(expr=u[0] == 0)\n",
    "for i in N:\n",
    "    model.r_MTZ.add(expr=u[i] <= Q)\n",
    "    if i != (n + 1):\n",
    "        for j in C:\n",
    "            if i != j:\n",
    "                model.r_MTZ.add(expr=u[j] >= u[i] + a[j] * x[i, j] + Q * (x[i, j] - 1))\n",
    "\n",
    "# 7. Restrições de tempo\n",
    "model.r_tempo = ConstraintList()\n",
    "model.r_tempo.add(expr=w[0] == 0)\n",
    "for i in N:\n",
    "    model.r_tempo.add(expr=w[i] <= F[i])\n",
    "    model.r_tempo.add(expr=w[i] >= I[i])\n",
    "    if i != (n + 1):\n",
    "        for j in N:\n",
    "            if j != 0:\n",
    "                model.r_tempo.add(expr=w[j] >= w[i] + (S[i] + D[i, j] / v) * x[i, j] + 10000 * (x[i, j] - 1)) "
   ]
  },
  {
   "cell_type": "code",
   "execution_count": 100,
   "id": "59377b04",
   "metadata": {},
   "outputs": [],
   "source": [
    "# Resolução\n",
    "solver = SolverFactory('glpk')\n",
    "resultado = solver.solve(model, tee = False)"
   ]
  },
  {
   "cell_type": "code",
   "execution_count": 101,
   "id": "ccc51032",
   "metadata": {},
   "outputs": [
    {
     "name": "stdout",
     "output_type": "stream",
     "text": [
      "Distancia mínima: 1596.0 km\n",
      "\n",
      "O vendedor vai da cidade 0 para 2\n",
      "O vendedor vai da cidade 0 para 3\n",
      "O vendedor vai da cidade 0 para 5\n",
      "O vendedor vai da cidade 1 para 6\n",
      "O vendedor vai da cidade 2 para 4\n",
      "O vendedor vai da cidade 3 para 6\n",
      "O vendedor vai da cidade 4 para 6\n",
      "O vendedor vai da cidade 5 para 1\n"
     ]
    }
   ],
   "source": [
    "if (resultado.solver.status == SolverStatus.ok) and (resultado.solver.termination_condition != TerminationCondition.infeasible):\n",
    "    print(f'Distancia mínima: {value(model.obj)} km')\n",
    "    print()\n",
    "    for i in N:\n",
    "        if i < n + 1:\n",
    "            for j in N:\n",
    "                if j > 0:\n",
    "                    if (i != j) and (value(x[i, j]) == 1):\n",
    "                        print(f'O vendedor vai da cidade {int(i)} para {int(j)}')\n",
    "else:\n",
    "     print(resultado.solver.termination_condition)"
   ]
  }
 ],
 "metadata": {
  "kernelspec": {
   "display_name": "Python 3.10.8 64-bit",
   "language": "python",
   "name": "python3"
  },
  "language_info": {
   "codemirror_mode": {
    "name": "ipython",
    "version": 3
   },
   "file_extension": ".py",
   "mimetype": "text/x-python",
   "name": "python",
   "nbconvert_exporter": "python",
   "pygments_lexer": "ipython3",
   "version": "3.10.8"
  },
  "vscode": {
   "interpreter": {
    "hash": "0f4aad36e1a7834f44c14e84b98527cfbefef55e7a336cfec74130d804d73c8f"
   }
  }
 },
 "nbformat": 4,
 "nbformat_minor": 5
}
