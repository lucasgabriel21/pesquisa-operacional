{
 "cells": [
  {
   "cell_type": "code",
   "execution_count": 54,
   "id": "e64eda6f",
   "metadata": {},
   "outputs": [],
   "source": [
    "# Módulos\n",
    "from pyomo.environ import *\n",
    "from pyomo.opt import SolverFactory"
   ]
  },
  {
   "cell_type": "code",
   "execution_count": 55,
   "id": "edd4b302",
   "metadata": {},
   "outputs": [],
   "source": [
    "# Dados\n",
    "Tarefas = [i for i in range(6)]\n",
    "proc_tempo = {0: 0, 1: 64, 2: 53, 3: 63, 4: 99, 5: 189}\n",
    "entrega = {0: 0, 1: 100, 2: 70, 3: 150, 4: 601, 5: 118}\n",
    "M = 10000"
   ]
  },
  {
   "cell_type": "markdown",
   "id": "3e61bd5a",
   "metadata": {},
   "source": [
    "# c) Objetivo de minimizar o número de tarefas atrasadas"
   ]
  },
  {
   "cell_type": "code",
   "execution_count": 60,
   "id": "889e1674",
   "metadata": {},
   "outputs": [],
   "source": [
    "# Modelo\n",
    "model = ConcreteModel()\n",
    "\n",
    "# Conjuntos\n",
    "model.T = Set(initialize=Tarefas)\n",
    "T = model.T\n",
    "\n",
    "# Parâmetros\n",
    "model.p = Param(T, initialize=proc_tempo, within=NonNegativeReals)\n",
    "model.d = Param(T, initialize=entrega, within=NonNegativeReals)\n",
    "p, d = model.p, model.d\n",
    "\n",
    "# Variáveis de decisão\n",
    "model.x = Var(T * T, within=Binary)\n",
    "model.C = Var(T, within=NonNegativeReals)\n",
    "model.t = Var(T, within=NonNegativeReals)\n",
    "model.y = Var(T, within=Binary)\n",
    "x, C, t, y = model.x, model.C, model.t, model.y\n",
    "\n",
    "# Função objetivo\n",
    "model.obj = Objective(sense=minimize,\n",
    "                      expr = sum(y[i] for i in T if i > 0))\n",
    "\n",
    "# Restrições\n",
    "# Um sucessor por tarefa\n",
    "model.r_sucessor = ConstraintList()\n",
    "for i in T:\n",
    "    model.r_sucessor.add(expr = sum(x[i, j] for j in T if j != i) == 1)\n",
    "# Um antecessor por tarefa\n",
    "model.r_antecessor = ConstraintList()\n",
    "for j in T:\n",
    "    model.r_antecessor.add(expr = sum(x[i, j] for i in T if i != j) == 1)\n",
    "# Tempo de término\n",
    "model.r_termino = ConstraintList()\n",
    "for i in T:\n",
    "    for j in T:\n",
    "        if j != i and j > 0:\n",
    "            model.r_termino.add(expr = C[j] >= C[i] + p[j] * x[i, j] + M * (x[i, j] - 1))\n",
    "# Tempos de atraso positivos\n",
    "model.r_atraso = ConstraintList()\n",
    "for i in T:\n",
    "    if i > 0:\n",
    "        model.r_atraso.add(expr = t[i] >= C[i] - d[i])\n",
    "# Binário de contagem de tarefas atrasadas\n",
    "model.r_contagem_atraso = ConstraintList()\n",
    "for i in T:\n",
    "    model.r_contagem_atraso.add(expr = t[i] <= M * y[i])\n",
    "\n",
    "# model.pprint()"
   ]
  },
  {
   "cell_type": "code",
   "execution_count": 61,
   "id": "24c20865",
   "metadata": {},
   "outputs": [],
   "source": [
    "# Resolução\n",
    "solver = SolverFactory('cplex')\n",
    "resultado = solver.solve(model, tee=False)"
   ]
  },
  {
   "cell_type": "code",
   "execution_count": 62,
   "id": "1c92b1fb",
   "metadata": {},
   "outputs": [
    {
     "name": "stdout",
     "output_type": "stream",
     "text": [
      "Item c) Objetivo de minimizar o número de tarefas atrasadas \n",
      "\n",
      "Tempo de fluxo total: 1256 minutos.\n",
      "Número de tarefas atrasadas: 2 tarefas.\n",
      "\n",
      "Atraso da tarefa 1: 368.00\n",
      "Conclusão da tarefa 1: 468.00\n",
      "Entrega da tarefa 1: 100.00\n",
      "\n",
      "Atraso da tarefa 2: -17.00\n",
      "Conclusão da tarefa 2: 53.00\n",
      "Entrega da tarefa 2: 70.00\n",
      "\n",
      "Atraso da tarefa 3: -34.00\n",
      "Conclusão da tarefa 3: 116.00\n",
      "Entrega da tarefa 3: 150.00\n",
      "\n",
      "Atraso da tarefa 4: -386.00\n",
      "Conclusão da tarefa 4: 215.00\n",
      "Entrega da tarefa 4: 601.00\n",
      "\n",
      "Atraso da tarefa 5: 286.00\n",
      "Conclusão da tarefa 5: 404.00\n",
      "Entrega da tarefa 5: 118.00\n",
      "\n"
     ]
    }
   ],
   "source": [
    "# Apresentação de resultados\n",
    "if (resultado.solver.status == SolverStatus.ok) and (resultado.solver.termination_condition != TerminationCondition.infeasible):\n",
    "    print('Item c) Objetivo de minimizar o número de tarefas atrasadas \\n')\n",
    "    print('Tempo de fluxo total: {:.0f} minutos.'.format(sum(value(C[i]) for i in T)))\n",
    "    # print('Soma dos atrasos: {:.0f} minutos.'.format(sum(value(t[i]) for i in T)))\n",
    "    print('Número de tarefas atrasadas: {:.0f} tarefas.'.format(value(model.obj)))\n",
    "    print()\n",
    "    for i in T:\n",
    "        if i > 0:\n",
    "            print('Atraso da tarefa {}: {:.2f}'.format(i, value(C[i] - d[i])))\n",
    "            print('Conclusão da tarefa {}: {:.2f}'.format(i, value(C[i])))\n",
    "            print('Entrega da tarefa {}: {:.2f}'.format(i, value(d[i])))\n",
    "            print()\n",
    "else:\n",
    "    print(resultado.solver.termination_condition)"
   ]
  }
 ],
 "metadata": {
  "kernelspec": {
   "display_name": "Python 3 (ipykernel)",
   "language": "python",
   "name": "python3"
  },
  "language_info": {
   "codemirror_mode": {
    "name": "ipython",
    "version": 3
   },
   "file_extension": ".py",
   "mimetype": "text/x-python",
   "name": "python",
   "nbconvert_exporter": "python",
   "pygments_lexer": "ipython3",
   "version": "3.9.5"
  }
 },
 "nbformat": 4,
 "nbformat_minor": 5
}
