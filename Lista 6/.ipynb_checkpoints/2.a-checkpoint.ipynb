{
 "cells": [
  {
   "cell_type": "code",
   "execution_count": 36,
   "id": "b14691af",
   "metadata": {},
   "outputs": [],
   "source": [
    "# Módulos\n",
    "from pyomo.environ import *\n",
    "from pyomo.opt import SolverFactory"
   ]
  },
  {
   "cell_type": "code",
   "execution_count": 37,
   "id": "69ba0a03",
   "metadata": {},
   "outputs": [],
   "source": [
    "# Dados\n",
    "Produtos = [1, 2, 3]\n",
    "Recursos = ['Corte', 'Perfuração', 'Montagem', 'Metal 1', 'Metal 2']\n",
    "qtd_R_P = {('Corte', 1): 0.3, ('Corte', 2): 0.2, ('Corte', 3): 0.3, \n",
    "           ('Perfuração', 1): 0.1, ('Perfuração', 2): 0.6, ('Perfuração', 3): 0.4,\n",
    "           ('Montagem', 1): 0.1, ('Montagem', 2): 0.7, ('Montagem', 3): 0.3,\n",
    "           ('Metal 1', 1): 3, ('Metal 1', 2): 0, ('Metal 1', 3): 1.2,\n",
    "           ('Metal 2', 1): 0, ('Metal 2', 2): 2, ('Metal 2', 3): 4,}\n",
    "preco_P = {1: 9, 2: 20, 3: 16}\n",
    "custo_P = {1: 6, 2: 15, 3: 14}\n",
    "disponibilidade_R = {'Corte': 290, 'Perfuração': 270, 'Montagem': 240, \n",
    "                     'Metal 1': 3000, 'Metal 2': 2000}\n",
    "demanda_min_P = {1: 500, 2: 100, 3: 400}\n",
    "demanda_max_P = {1: 1100, 2: 700, 3: 900}"
   ]
  },
  {
   "cell_type": "code",
   "execution_count": 38,
   "id": "b47f6dc1",
   "metadata": {},
   "outputs": [],
   "source": [
    "# Modelo\n",
    "model = ConcreteModel()\n",
    "\n",
    "# Conjuntos\n",
    "model.P = Set(initialize=Produtos)\n",
    "model.R = Set(initialize=Recursos)\n",
    "P, R = model.P, model.R\n",
    "\n",
    "# Parâmetros\n",
    "model.q = Param(R * P, initialize=qtd_R_P, within=NonNegativeReals)\n",
    "model.p = Param(P, initialize=preco_P, within=NonNegativeReals)\n",
    "model.c = Param(P, initialize=custo_P, within=NonNegativeReals)\n",
    "model.a = Param(R, initialize=disponibilidade_R, within=NonNegativeReals)\n",
    "model.L = Param(P, initialize=demanda_min_P, within=NonNegativeReals)\n",
    "model.U = Param(P, initialize=demanda_max_P, within=NonNegativeReals)\n",
    "q, p, c, a, L, U = model.q, model.p, model.c, model.a, model.L, model.U\n",
    "\n",
    "# Variáveis de decisão\n",
    "model.x = Var(P, within=NonNegativeIntegers)\n",
    "x = model.x\n",
    "\n",
    "# Função objetivo\n",
    "model.obj = Objective(sense=maximize,\n",
    "                      expr = sum((p[i] - c[i]) * x[i] for i in P))\n",
    "\n",
    "# Restrições\n",
    "# Disponibilidade\n",
    "model.r_disp = ConstraintList()\n",
    "for j in R:\n",
    "    model.r_disp.add(expr = sum(q[j, i] * x[i] for i in P) <= a[j])\n",
    "# Demanda\n",
    "model.r_demanda = ConstraintList()\n",
    "for i in P:\n",
    "    model.r_demanda.add(expr = x[i] >= L[i])\n",
    "    model.r_demanda.add(expr = x[i] <= U[i])\n",
    "    \n",
    "# model.pprint()"
   ]
  },
  {
   "cell_type": "code",
   "execution_count": 39,
   "id": "3d4ea7b8",
   "metadata": {},
   "outputs": [],
   "source": [
    "# Resolução\n",
    "solver = SolverFactory('cplex')\n",
    "resultado = solver.solve(model, tee=False)"
   ]
  },
  {
   "cell_type": "code",
   "execution_count": 41,
   "id": "4dd54a9b",
   "metadata": {},
   "outputs": [
    {
     "name": "stdout",
     "output_type": "stream",
     "text": [
      "Devem ser produzidas 500 unidades de 1.\n",
      "Devem ser produzidas 100 unidades de 2.\n",
      "Devem ser produzidas 400 unidades de 3.\n",
      "\n",
      "O lucro máximo é de R$2800.00.\n"
     ]
    }
   ],
   "source": [
    "# Apresentação de resultados\n",
    "if (resultado.solver.status == SolverStatus.ok) and (resultado.solver.termination_condition != TerminationCondition.infeasible):\n",
    "    for i in P:\n",
    "        print('Devem ser produzidas {:.0f} unidades de {}.'.format(value(x[i]), i))\n",
    "    print()\n",
    "    print('O lucro máximo é de R${:.2f}.'.format(value(model.obj)))\n",
    "else:\n",
    "    print(resultado.solver.termination_condition)"
   ]
  },
  {
   "cell_type": "code",
   "execution_count": 42,
   "id": "da6f1926",
   "metadata": {},
   "outputs": [
    {
     "name": "stdout",
     "output_type": "stream",
     "text": [
      "Quantidade do recurso Corte utilizado: 290.0\n",
      "Quantidade do recurso Perfuração utilizado: 270.0\n",
      "Quantidade do recurso Montagem utilizado: 240.0\n",
      "Quantidade do recurso Metal 1 utilizado: 1980.0\n",
      "Quantidade do recurso Metal 2 utilizado: 1800.0\n"
     ]
    }
   ],
   "source": [
    "for j in R:\n",
    "    print('Quantidade do recurso {} utilizado: {}'.format(j, value(sum(q[j, i] * x[i] for i in P))))"
   ]
  }
 ],
 "metadata": {
  "kernelspec": {
   "display_name": "Python 3 (ipykernel)",
   "language": "python",
   "name": "python3"
  },
  "language_info": {
   "codemirror_mode": {
    "name": "ipython",
    "version": 3
   },
   "file_extension": ".py",
   "mimetype": "text/x-python",
   "name": "python",
   "nbconvert_exporter": "python",
   "pygments_lexer": "ipython3",
   "version": "3.9.5"
  }
 },
 "nbformat": 4,
 "nbformat_minor": 5
}
