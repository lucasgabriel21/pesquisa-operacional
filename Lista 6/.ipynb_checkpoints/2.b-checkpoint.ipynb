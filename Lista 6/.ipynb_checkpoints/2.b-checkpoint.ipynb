{
 "cells": [
  {
   "cell_type": "code",
   "execution_count": 37,
   "id": "3e82cb7d",
   "metadata": {},
   "outputs": [],
   "source": [
    "# Módulos\n",
    "from pyomo.environ import *\n",
    "from pyomo.opt import SolverFactory"
   ]
  },
  {
   "cell_type": "code",
   "execution_count": 38,
   "id": "81c0773d",
   "metadata": {},
   "outputs": [],
   "source": [
    "# Dados\n",
    "Produtos = [0, 'Produto 1_1', 'Produto 1_2', 'Produto 2_1', 'Produto 2_2', 'Produto 2_3', 'Produto 3_1','Produto 3_2']\n",
    "entrega_P = {0: 0, 'Produto 1_1': 10, 'Produto 1_2': 12, 'Produto 2_1': 11, 'Produto 2_2': 13, \n",
    "             'Produto 2_3': 17, 'Produto 3_1': 12,'Produto 3_2': 16}\n",
    "producao_P = {0: 0, 'Produto 1_1': 0.5, 'Produto 1_2': 0.5, 'Produto 2_1': 1.5, 'Produto 2_2': 1.5, \n",
    "             'Produto 2_3': 1.5, 'Produto 3_1': 1,'Produto 3_2': 1}\n",
    "horario_inicio = 9\n",
    "multa = 30\n",
    "R = 10000"
   ]
  },
  {
   "cell_type": "code",
   "execution_count": 39,
   "id": "241be43c",
   "metadata": {},
   "outputs": [],
   "source": [
    "# Modelo\n",
    "model = ConcreteModel()\n",
    "\n",
    "# Conjuntos\n",
    "model.P = Set(initialize=Produtos)\n",
    "P = model.P\n",
    "\n",
    "# Parâmetros\n",
    "model.p = Param(P, initialize=producao_P, within=NonNegativeReals)\n",
    "model.d = Param(P, initialize=entrega_P, within=NonNegativeReals)\n",
    "model.h = Param(initialize=horario_inicio, within=NonNegativeReals)\n",
    "model.m = Param(initialize=multa, within=NonNegativeReals)\n",
    "p, d, h, m = model.p, model.d, model.h, model.m\n",
    "\n",
    "# Variáveis de decisão\n",
    "model.x = Var(P * P, within=Binary)\n",
    "model.C = Var(P, within=NonNegativeReals)\n",
    "model.t = Var(P, within=NonNegativeReals)\n",
    "model.y = Var(P, within=Binary)\n",
    "x, C, t, y = model.x, model.C, model.t, model.y\n",
    "\n",
    "# Função objetivo\n",
    "model.obj = Objective(sense=minimize,\n",
    "                      expr = m * sum(y[i] for i in P if i != 0))\n",
    "\n",
    "# Restrições\n",
    "# Um sucessor por tarefa\n",
    "model.r_sucessor = ConstraintList()\n",
    "for i in P:\n",
    "    model.r_sucessor.add(expr = sum(x[i, j] for j in P if j != i) == 1)\n",
    "# Um antecessor por tarefa\n",
    "model.r_antecessor = ConstraintList()\n",
    "for j in P:\n",
    "    model.r_antecessor.add(expr = sum(x[i, j] for i in P if i != j) == 1)\n",
    "# Tempo de término\n",
    "model.r_termino = ConstraintList()\n",
    "model.r_termino.add(expr = C[0] == h)\n",
    "for i in P:\n",
    "    for j in P:\n",
    "        if j != i and j != 0:\n",
    "            model.r_termino.add(expr = C[j] >= C[i] + p[j] * x[i, j] + R * (x[i, j] - 1))\n",
    "# Tempos de atraso positivos\n",
    "model.r_atraso = ConstraintList()\n",
    "for i in P:\n",
    "    if i != 0:\n",
    "        model.r_atraso.add(expr = t[i] >= C[i] - d[i])\n",
    "# Binário de contagem de tarefas atrasadas\n",
    "model.r_contagem_atraso = ConstraintList()\n",
    "for i in P:\n",
    "    if i != 0:\n",
    "        model.r_contagem_atraso.add(expr = t[i] <= R * y[i])\n",
    "\n"
   ]
  },
  {
   "cell_type": "code",
   "execution_count": 40,
   "id": "c2b38fdb",
   "metadata": {},
   "outputs": [],
   "source": [
    "# Resolução\n",
    "solver = SolverFactory('glpk')\n",
    "resultado = solver.solve(model, tee=False)"
   ]
  },
  {
   "cell_type": "code",
   "execution_count": 41,
   "id": "66c3883f",
   "metadata": {},
   "outputs": [
    {
     "name": "stdout",
     "output_type": "stream",
     "text": [
      "Produto 0 precede o Produto 1_1.\n",
      "Produto Produto 1_1 precede o Produto 2_1.\n",
      "Produto Produto 1_2 precede o Produto 2_2.\n",
      "Produto Produto 2_1 precede o Produto 1_2.\n",
      "Produto Produto 2_2 precede o Produto 2_3.\n",
      "Produto Produto 2_3 precede o Produto 3_2.\n",
      "Produto Produto 3_1 precede o 0.\n",
      "Produto Produto 3_2 precede o Produto 3_1.\n",
      "\n",
      "O produto Produto 3_1 terá atraso\n",
      "\n",
      "O valor mínimo em multa é de R$30.00\n"
     ]
    }
   ],
   "source": [
    "# Apresentação de resultados\n",
    "if (resultado.solver.status == SolverStatus.ok) and (resultado.solver.termination_condition != TerminationCondition.infeasible):\n",
    "    for i in P:\n",
    "        for j in P:\n",
    "            if i != j and value(x[i,j]) == 1:\n",
    "                print('Produto {} precede o {}.'.format(i, j))\n",
    "    print()\n",
    "    for i in P:\n",
    "        if i != 0:\n",
    "            if value(y[i]) == 1:\n",
    "                print('O produto {} terá atraso'.format(i))\n",
    "    print()\n",
    "    print('O valor mínimo em multa é de R${:.2f}'.format(value(model.obj)))\n",
    "else:\n",
    "    print(resultado.solver.termination_condition)"
   ]
  }
 ],
 "metadata": {
  "kernelspec": {
   "display_name": "Python 3 (ipykernel)",
   "language": "python",
   "name": "python3"
  },
  "language_info": {
   "codemirror_mode": {
    "name": "ipython",
    "version": 3
   },
   "file_extension": ".py",
   "mimetype": "text/x-python",
   "name": "python",
   "nbconvert_exporter": "python",
   "pygments_lexer": "ipython3",
   "version": "3.9.5"
  }
 },
 "nbformat": 4,
 "nbformat_minor": 5
}
