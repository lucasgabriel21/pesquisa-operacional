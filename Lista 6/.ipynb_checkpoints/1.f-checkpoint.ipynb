{
 "cells": [
  {
   "cell_type": "code",
   "execution_count": 2,
   "id": "1aaf538f",
   "metadata": {},
   "outputs": [],
   "source": [
    "# Módulos\n",
    "from pyomo.environ import *\n",
    "from pyomo.opt import SolverFactory"
   ]
  },
  {
   "cell_type": "code",
   "execution_count": 3,
   "id": "23443203",
   "metadata": {},
   "outputs": [],
   "source": [
    "# Dados\n",
    "Tarefas = [i for i in range(6)]\n",
    "Maquinas = [1, 2]\n",
    "proc_tempo = {0: 0, 1: 64, 2: 53, 3: 63, 4: 99, 5: 189}\n",
    "entrega = {0: 0, 1: 100, 2: 70, 3: 150, 4: 601, 5: 118}\n",
    "M = 5000"
   ]
  },
  {
   "cell_type": "code",
   "execution_count": 4,
   "id": "2c87791b",
   "metadata": {},
   "outputs": [],
   "source": [
    "# Modelo\n",
    "model = ConcreteModel()\n",
    "\n",
    "# Conjuntos\n",
    "model.T = Set(initialize=Tarefas)\n",
    "model.M = Set(initialize=Maquinas)\n",
    "T, M = model.T, model.M\n",
    "\n",
    "# Parâmetros\n",
    "model.p = Param(T, initialize=proc_tempo, within=NonNegativeReals)\n",
    "model.d = Param(T, initialize=entrega, within=NonNegativeReals)\n",
    "p, d = model.p, model.d\n",
    "\n",
    "# Variáveis de decisão\n",
    "model.x = Var(T * M, within=Binary)\n",
    "model.C = Var(M, within=NonNegativeReals)\n",
    "model.C_max = Var(within=NonNegativeReals)\n",
    "x, C, C_max = model.x, model.C, model.C_max\n",
    "\n",
    "# Função objetivo\n",
    "model.obj = Objective(sense=minimize,\n",
    "                      expr = C_max)\n",
    "\n",
    "# Restrições\n",
    "# Definição do instante final de processamento\n",
    "model.r_proc_final = ConstraintList()\n",
    "for k in M:\n",
    "    model.r_proc_final.add(expr = C[k] == sum(p[i]*x[i,k] for i in T))\n",
    "# Definição do makespan\n",
    "model.r_mksp = ConstraintList()\n",
    "for k in M:\n",
    "    model.r_mksp.add(expr = C_max >= C[k])\n",
    "# Todas as tarefas são processadas\n",
    "model.r_proc = ConstraintList()\n",
    "for i in T:\n",
    "    model.r_proc.add(expr = sum(x[i,k] for k in M) == 1)\n",
    "\n",
    "# model.pprint()"
   ]
  },
  {
   "cell_type": "code",
   "execution_count": 5,
   "id": "1fb5faf6",
   "metadata": {},
   "outputs": [],
   "source": [
    "# Resolução\n",
    "solver = SolverFactory('glpk')\n",
    "resultado = solver.solve(model, tee=False)"
   ]
  },
  {
   "cell_type": "code",
   "execution_count": 6,
   "id": "cc4eb2d1",
   "metadata": {},
   "outputs": [
    {
     "name": "stdout",
     "output_type": "stream",
     "text": [
      "A tarefa 1 é processada na máquina 1\n",
      "A tarefa 2 é processada na máquina 2\n",
      "A tarefa 3 é processada na máquina 1\n",
      "A tarefa 4 é processada na máquina 1\n",
      "A tarefa 5 é processada na máquina 2\n",
      "\n",
      "O makespan mínimo é de 242 minutos.\n"
     ]
    }
   ],
   "source": [
    "# Apresentação de resultados\n",
    "if (resultado.solver.status == SolverStatus.ok) and (resultado.solver.termination_condition != TerminationCondition.infeasible):\n",
    "    for i in T:\n",
    "        for k in M:\n",
    "            if value(x[i,k]) == 1 and i != 0:\n",
    "                print('A tarefa {} é processada na máquina {}'.format(i,k))\n",
    "    print()\n",
    "    print('O makespan mínimo é de {:.0f} minutos.'.format(value(model.obj)))\n",
    "else:\n",
    "    print(resultado.solver.termination_condition)"
   ]
  }
 ],
 "metadata": {
  "kernelspec": {
   "display_name": "Python 3 (ipykernel)",
   "language": "python",
   "name": "python3"
  },
  "language_info": {
   "codemirror_mode": {
    "name": "ipython",
    "version": 3
   },
   "file_extension": ".py",
   "mimetype": "text/x-python",
   "name": "python",
   "nbconvert_exporter": "python",
   "pygments_lexer": "ipython3",
   "version": "3.9.5"
  }
 },
 "nbformat": 4,
 "nbformat_minor": 5
}
