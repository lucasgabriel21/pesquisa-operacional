{
 "cells": [
  {
   "cell_type": "code",
   "execution_count": 8,
   "id": "772ce6c6",
   "metadata": {},
   "outputs": [],
   "source": [
    "# Módulos\n",
    "from pyomo.environ import *\n",
    "from pyomo.opt import SolverFactory"
   ]
  },
  {
   "cell_type": "code",
   "execution_count": 9,
   "id": "b0dce5c4",
   "metadata": {},
   "outputs": [],
   "source": [
    "# Dados\n",
    "Moveis = [0, 'Escrivaninha 1', 'Escrivaninha 2', 'Mesa 1', \n",
    "          'Armário 1', 'Armário 2', 'Armário 3', 'Prateleira 1']\n",
    "Equipes = [1, 2]\n",
    "tempo_producao = {(0, 1): 0, (0, 2): 0,\n",
    "                  ('Escrivaninha 1', 1): 3, ('Escrivaninha 1', 2): 6,\n",
    "                  ('Escrivaninha 2', 1): 3, ('Escrivaninha 2', 2): 6,\n",
    "                  ('Mesa 1', 1): 1, ('Mesa 1', 2): 2, \n",
    "                  ('Armário 1', 1): 2, ('Armário 1', 2): 4, \n",
    "                  ('Armário 2', 1): 2, ('Armário 2', 2): 4, \n",
    "                  ('Armário 3', 1): 2, ('Armário 3', 2): 4, \n",
    "                  ('Prateleira 1', 1): 1, ('Prateleira 1', 2): 2}"
   ]
  },
  {
   "cell_type": "code",
   "execution_count": 10,
   "id": "c3ecc292",
   "metadata": {},
   "outputs": [],
   "source": [
    "# Modelo\n",
    "model = ConcreteModel()\n",
    "\n",
    "# Conjuntos\n",
    "model.M = Set(initialize=Moveis)\n",
    "model.E = Set(initialize=Equipes)\n",
    "M, E = model.M, model.E\n",
    "\n",
    "# Parâmetros\n",
    "model.p = Param(M * E, initialize=tempo_producao, within=NonNegativeReals)\n",
    "model.I = Param(initialize=inicio, within=NonNegativeReals)\n",
    "p, I = model.p, model.I\n",
    "\n",
    "# Variáveis de decisão\n",
    "model.x = Var(M * E, within=Binary)\n",
    "model.C = Var(E, within=NonNegativeReals)\n",
    "model.C_max = Var(within=NonNegativeReals)\n",
    "x, C, C_max = model.x, model.C, model.C_max\n",
    "\n",
    "# Função objetivo\n",
    "model.obj = Objective(sense=minimize,\n",
    "                      expr = C_max)\n",
    "\n",
    "# Restrições\n",
    "# Definição do instante final de processamento\n",
    "model.r_proc_final = ConstraintList()\n",
    "for k in E:\n",
    "    model.r_proc_final.add(expr = C[k] == sum(p[i, k] * x[i, k] for i in M))\n",
    "# Definição do makespan\n",
    "model.r_mksp = ConstraintList()\n",
    "for k in E:\n",
    "    model.r_mksp.add(expr = C_max >= C[k])\n",
    "# Todas as tarefas são processadas\n",
    "model.r_proc = ConstraintList()\n",
    "for i in M:\n",
    "    model.r_proc.add(expr = sum(x[i, k] for k in E) == 1)\n",
    "\n",
    "# model.pprint()"
   ]
  },
  {
   "cell_type": "code",
   "execution_count": 11,
   "id": "cada1688",
   "metadata": {},
   "outputs": [],
   "source": [
    "# Resolução\n",
    "solver = SolverFactory('cplex')\n",
    "resultado = solver.solve(model, tee=False)"
   ]
  },
  {
   "cell_type": "code",
   "execution_count": 12,
   "id": "71ee04fc",
   "metadata": {},
   "outputs": [
    {
     "name": "stdout",
     "output_type": "stream",
     "text": [
      "O móvel Escrivaninha 1 é processado pela equipe 2\n",
      "O móvel Escrivaninha 2 é processado pela equipe 1\n",
      "O móvel Mesa 1 é processado pela equipe 1\n",
      "O móvel Armário 1 é processado pela equipe 1\n",
      "O móvel Armário 2 é processado pela equipe 2\n",
      "O móvel Armário 3 é processado pela equipe 1\n",
      "O móvel Prateleira 1 é processado pela equipe 1\n",
      "\n",
      "O makespan mínimo é de 10 horas.\n"
     ]
    }
   ],
   "source": [
    "# Apresentação de resultados\n",
    "if (resultado.solver.status == SolverStatus.ok) and (resultado.solver.termination_condition != TerminationCondition.infeasible):\n",
    "    for i in M:\n",
    "        for k in E:\n",
    "            if value(x[i, k]) == 1 and i != 0:\n",
    "                print('O móvel {} é processado pela equipe {}'.format(i, k))\n",
    "    print()\n",
    "    print('O makespan mínimo é de {:.0f} horas.'.format(value(model.obj)))\n",
    "else:\n",
    "    print(resultado.solver.termination_condition)"
   ]
  }
 ],
 "metadata": {
  "kernelspec": {
   "display_name": "Python 3 (ipykernel)",
   "language": "python",
   "name": "python3"
  },
  "language_info": {
   "codemirror_mode": {
    "name": "ipython",
    "version": 3
   },
   "file_extension": ".py",
   "mimetype": "text/x-python",
   "name": "python",
   "nbconvert_exporter": "python",
   "pygments_lexer": "ipython3",
   "version": "3.9.5"
  }
 },
 "nbformat": 4,
 "nbformat_minor": 5
}
