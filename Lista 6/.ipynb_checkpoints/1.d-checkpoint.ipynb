{
 "cells": [
  {
   "cell_type": "code",
   "execution_count": 30,
   "id": "1f179b43",
   "metadata": {},
   "outputs": [],
   "source": [
    "# Módulos\n",
    "from pyomo.environ import *\n",
    "from pyomo.opt import SolverFactory"
   ]
  },
  {
   "cell_type": "code",
   "execution_count": 31,
   "id": "7e1c02a6",
   "metadata": {},
   "outputs": [],
   "source": [
    "# Dados\n",
    "Tarefas = [i for i in range(6)]\n",
    "proc_tempo = {0: 0, 1: 64, 2: 53, 3: 63, 4: 99, 5: 189}\n",
    "entrega = {0: 0, 1: 100, 2: 70, 3: 150, 4: 601, 5: 118}\n",
    "M = 10000"
   ]
  },
  {
   "cell_type": "code",
   "execution_count": 32,
   "id": "17deed83",
   "metadata": {
    "scrolled": false
   },
   "outputs": [],
   "source": [
    "# Modelo\n",
    "model = ConcreteModel()\n",
    "\n",
    "# Conjuntos\n",
    "model.T = Set(initialize=Tarefas)\n",
    "T = model.T\n",
    "\n",
    "# Parâmetros\n",
    "model.p = Param(T, initialize=proc_tempo, within=NonNegativeReals)\n",
    "model.d = Param(T, initialize=entrega, within=NonNegativeReals)\n",
    "p, d = model.p, model.d\n",
    "\n",
    "# Variáveis de decisão\n",
    "model.x = Var(T * T, within=Binary)  # Ordem de produção\n",
    "model.C = Var(T, within=NonNegativeReals)  # Instante de conclusão\n",
    "model.t = Var(T, within=NonNegativeReals)  # Tempo de atraso\n",
    "model.y = Var(T, within=Binary)  # Tarefa atrasa ou não\n",
    "model.t_max = Var(within=NonNegativeReals)  # Tempo máximo de atraso\n",
    "x, C, t, y, t_max = model.x, model.C, model.t, model.y, model.t_max\n",
    "\n",
    "# Função objetivo\n",
    "model.obj = Objective(sense=minimize,\n",
    "                      expr = t_max)\n",
    "\n",
    "# Restrições\n",
    "# Um sucessor por tarefa\n",
    "model.r_sucessor = ConstraintList()\n",
    "for i in T:\n",
    "    model.r_sucessor.add(expr = sum(x[i, j] for j in T if j != i) == 1)\n",
    "# Um antecessor por tarefa\n",
    "model.r_antecessor = ConstraintList()\n",
    "for j in T:\n",
    "    model.r_antecessor.add(expr = sum(x[i, j] for i in T if i != j) == 1)\n",
    "# Tempo de término\n",
    "model.r_termino = ConstraintList()\n",
    "for i in T:\n",
    "    for j in T:\n",
    "        if j != i and j > 0:\n",
    "            model.r_termino.add(expr = C[j] >= C[i] + p[j] * x[i, j] + M * (x[i, j] - 1))\n",
    "# Tempos de atraso positivos\n",
    "model.r_atraso = ConstraintList()\n",
    "for i in T:\n",
    "    if i > 0:\n",
    "        model.r_atraso.add(expr = t[i] >= C[i] - d[i])\n",
    "# Binário de contagem de tarefas atrasadas\n",
    "model.r_contagem_atraso = ConstraintList()\n",
    "for i in T:\n",
    "    model.r_contagem_atraso.add(expr = t[i] <= M * y[i])\n",
    "# Tempo máximo\n",
    "model.r_t_max = ConstraintList()\n",
    "for i in T:\n",
    "    model.r_t_max.add(expr = t_max >= t[i])\n",
    "\n",
    "# model.pprint()"
   ]
  },
  {
   "cell_type": "code",
   "execution_count": 33,
   "id": "076c6fd1",
   "metadata": {},
   "outputs": [],
   "source": [
    "# Resolução\n",
    "solver = SolverFactory('glpk')\n",
    "resultado = solver.solve(model, tee=False)"
   ]
  },
  {
   "cell_type": "code",
   "execution_count": 34,
   "id": "af26fb95",
   "metadata": {},
   "outputs": [
    {
     "name": "stdout",
     "output_type": "stream",
     "text": [
      "Tarefa 0 precede a 5.\n",
      "Tarefa 1 precede a 3.\n",
      "Tarefa 2 precede a 1.\n",
      "Tarefa 3 precede a 4.\n",
      "Tarefa 4 precede a 0.\n",
      "Tarefa 5 precede a 2.\n",
      "\n",
      "O atraso máximo é 219 minutos\n"
     ]
    }
   ],
   "source": [
    "# Apresentação de resultados\n",
    "if (resultado.solver.status == SolverStatus.ok) and (resultado.solver.termination_condition != TerminationCondition.infeasible):\n",
    "    for i in T:\n",
    "        for j in T:\n",
    "            if i != j and value(x[i,j]) == 1:\n",
    "                print('Tarefa {} precede a {}.'.format(i, j))    \n",
    "    print()\n",
    "    print('O atraso máximo é {:.0f} minutos'.format(value(model.obj)))\n",
    "else:\n",
    "    print(resultado.solver.termination_condition)"
   ]
  }
 ],
 "metadata": {
  "kernelspec": {
   "display_name": "Python 3 (ipykernel)",
   "language": "python",
   "name": "python3"
  },
  "language_info": {
   "codemirror_mode": {
    "name": "ipython",
    "version": 3
   },
   "file_extension": ".py",
   "mimetype": "text/x-python",
   "name": "python",
   "nbconvert_exporter": "python",
   "pygments_lexer": "ipython3",
   "version": "3.9.5"
  }
 },
 "nbformat": 4,
 "nbformat_minor": 5
}
