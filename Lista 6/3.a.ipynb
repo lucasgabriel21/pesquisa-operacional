{
 "cells": [
  {
   "cell_type": "code",
   "execution_count": 1,
   "id": "b14691af",
   "metadata": {},
   "outputs": [],
   "source": [
    "# Módulos\n",
    "from pyomo.environ import *\n",
    "from pyomo.opt import SolverFactory"
   ]
  },
  {
   "cell_type": "code",
   "execution_count": 7,
   "id": "69ba0a03",
   "metadata": {},
   "outputs": [],
   "source": [
    "# Dados\n",
    "Moveis = ['Escrivaninha', 'Mesa', 'Armário', 'Prateleira']\n",
    "Recursos = ['Tábua', 'Prancha', 'Painéis']\n",
    "qtd_R_M = {('Tábua', 'Escrivaninha'): 2, ('Tábua', 'Mesa'): 1, ('Tábua', 'Armário'): 2,('Tábua', 'Prateleira'): 4,\n",
    "           ('Prancha', 'Escrivaninha'): 0, ('Prancha', 'Mesa'): 3, ('Prancha', 'Armário'): 1,('Prancha', 'Prateleira'): 2, \n",
    "           ('Painéis', 'Escrivaninha'): 3, ('Painéis', 'Mesa'): 2, ('Painéis', 'Armário'): 4,('Painéis', 'Prateleira'): 0}\n",
    "preco_M = {'Escrivaninha': 100, 'Mesa': 150, 'Armário': 120, 'Prateleira': 90}\n",
    "custo_R = {'Tábua': 10, 'Prancha': 17, 'Painéis': 12}\n",
    "disponibilidade_R = {'Tábua': 250, 'Prancha': 600, 'Painéis': 500}"
   ]
  },
  {
   "cell_type": "code",
   "execution_count": 13,
   "id": "b47f6dc1",
   "metadata": {},
   "outputs": [],
   "source": [
    "# Modelo\n",
    "model = ConcreteModel()\n",
    "\n",
    "# Conjuntos\n",
    "model.M = Set(initialize=Moveis)\n",
    "model.R = Set(initialize=Recursos)\n",
    "M, R = model.M, model.R\n",
    "\n",
    "# Parâmetros\n",
    "model.q = Param(R * M, initialize=qtd_R_M, within=NonNegativeReals)\n",
    "model.p = Param(M, initialize=preco_M, within=NonNegativeReals)\n",
    "model.c = Param(R, initialize=custo_R, within=NonNegativeReals)\n",
    "model.a = Param(R, initialize=disponibilidade_R, within=NonNegativeReals)\n",
    "q, p, c, a = model.q, model.p, model.c, model.a\n",
    "\n",
    "# Variáveis de decisão\n",
    "model.x = Var(M, within=NonNegativeIntegers)\n",
    "x = model.x\n",
    "\n",
    "# Função objetivo\n",
    "model.obj = Objective(sense=maximize,\n",
    "                      expr = sum(p[i] * x[i] for i in M))\n",
    "\n",
    "# Restrições\n",
    "# Disponibilidade\n",
    "model.r_disp = ConstraintList()\n",
    "for j in R:\n",
    "    model.r_disp.add(expr = sum(q[j, i] * x[i] for i in M) <= a[j])"
   ]
  },
  {
   "cell_type": "code",
   "execution_count": 14,
   "id": "3d4ea7b8",
   "metadata": {},
   "outputs": [],
   "source": [
    "# Resolução\n",
    "solver = SolverFactory('cplex')\n",
    "resultado = solver.solve(model, tee=False)"
   ]
  },
  {
   "cell_type": "code",
   "execution_count": 17,
   "id": "4dd54a9b",
   "metadata": {},
   "outputs": [
    {
     "name": "stdout",
     "output_type": "stream",
     "text": [
      "Devem ser produzidas 25 unidades de Escrivaninha.\n",
      "Devem ser produzidas 200 unidades de Mesa.\n",
      "Devem ser produzidas 0 unidades de Armário.\n",
      "Devem ser produzidas -0 unidades de Prateleira.\n",
      "\n",
      "A receita máxima é de R$32500.00.\n"
     ]
    }
   ],
   "source": [
    "# Apresentação de resultados\n",
    "if (resultado.solver.status == SolverStatus.ok) and (resultado.solver.termination_condition != TerminationCondition.infeasible):\n",
    "    for i in M:\n",
    "        print('Devem ser produzidas {:.0f} unidades de {}.'.format(value(x[i]), i))\n",
    "    print()\n",
    "    print('A receita máxima é de R${:.2f}.'.format(value(model.obj)))\n",
    "else:\n",
    "    print(resultado.solver.termination_condition)"
   ]
  }
 ],
 "metadata": {
  "kernelspec": {
   "display_name": "Python 3 (ipykernel)",
   "language": "python",
   "name": "python3"
  },
  "language_info": {
   "codemirror_mode": {
    "name": "ipython",
    "version": 3
   },
   "file_extension": ".py",
   "mimetype": "text/x-python",
   "name": "python",
   "nbconvert_exporter": "python",
   "pygments_lexer": "ipython3",
   "version": "3.9.5"
  }
 },
 "nbformat": 4,
 "nbformat_minor": 5
}
