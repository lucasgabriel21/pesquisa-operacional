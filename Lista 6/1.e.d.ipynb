{
 "cells": [
  {
   "cell_type": "code",
   "execution_count": 114,
   "id": "f9d0e133",
   "metadata": {},
   "outputs": [],
   "source": [
    "# Módulos\n",
    "from pyomo.environ import *\n",
    "from pyomo.opt import SolverFactory"
   ]
  },
  {
   "cell_type": "code",
   "execution_count": 115,
   "id": "1eac7451",
   "metadata": {},
   "outputs": [],
   "source": [
    "# Dados\n",
    "Tarefas = [i for i in range(6)]\n",
    "proc_tempo = {0: 0, 1: 64, 2: 53, 3: 63, 4: 99, 5: 189}\n",
    "entrega = {0: 0, 1: 100, 2: 70, 3: 150, 4: 601, 5: 118}\n",
    "M = 10000"
   ]
  },
  {
   "cell_type": "markdown",
   "id": "f434e038",
   "metadata": {},
   "source": [
    "## d) Objetivo de minimizar o tempo máximo de atraso"
   ]
  },
  {
   "cell_type": "code",
   "execution_count": 116,
   "id": "ebffe637",
   "metadata": {},
   "outputs": [],
   "source": [
    "# Modelo\n",
    "model = ConcreteModel()\n",
    "\n",
    "# Conjuntos\n",
    "model.T = Set(initialize=Tarefas)\n",
    "T = model.T\n",
    "\n",
    "# Parâmetros\n",
    "model.p = Param(T, initialize=proc_tempo, within=NonNegativeReals)\n",
    "model.d = Param(T, initialize=entrega, within=NonNegativeReals)\n",
    "p, d = model.p, model.d\n",
    "\n",
    "# Variáveis de decisão\n",
    "model.x = Var(T * T, within=Binary)  # Ordem de produção\n",
    "model.C = Var(T, within=NonNegativeReals)  # Instante de conclusão\n",
    "model.t = Var(T, within=NonNegativeReals)  # Tempo de atraso\n",
    "model.y = Var(T, within=Binary)  # Tarefa atrasa ou não\n",
    "model.t_max = Var(within=NonNegativeReals)  # Tempo máximo de atraso\n",
    "x, C, t, y, t_max = model.x, model.C, model.t, model.y, model.t_max\n",
    "\n",
    "# Função objetivo\n",
    "model.obj = Objective(sense=minimize,\n",
    "                      expr = t_max)\n",
    "\n",
    "# Restrições\n",
    "# Um sucessor por tarefa\n",
    "model.r_sucessor = ConstraintList()\n",
    "for i in T:\n",
    "    model.r_sucessor.add(expr = sum(x[i, j] for j in T if j != i) == 1)\n",
    "# Um antecessor por tarefa\n",
    "model.r_antecessor = ConstraintList()\n",
    "for j in T:\n",
    "    model.r_antecessor.add(expr = sum(x[i, j] for i in T if i != j) == 1)\n",
    "# Tempo de término\n",
    "model.r_termino = ConstraintList()\n",
    "for i in T:\n",
    "    for j in T:\n",
    "        if j != i and j > 0:\n",
    "            model.r_termino.add(expr = C[j] >= C[i] + p[j] * x[i, j] + M * (x[i, j] - 1))\n",
    "# Tempos de atraso positivos\n",
    "model.r_atraso = ConstraintList()\n",
    "for i in T:\n",
    "    if i > 0:\n",
    "        model.r_atraso.add(expr = t[i] >= C[i] - d[i])\n",
    "# Binário de contagem de tarefas atrasadas\n",
    "model.r_contagem_atraso = ConstraintList()\n",
    "for i in T:\n",
    "    model.r_contagem_atraso.add(expr = t[i] <= M * y[i])\n",
    "# Tempo máximo\n",
    "model.r_t_max = ConstraintList()\n",
    "for i in T:\n",
    "    model.r_t_max.add(expr = t_max >= t[i])\n",
    "\n",
    "# model.pprint()"
   ]
  },
  {
   "cell_type": "code",
   "execution_count": 117,
   "id": "be611aef",
   "metadata": {},
   "outputs": [],
   "source": [
    "# Resolução\n",
    "solver = SolverFactory('cplex')\n",
    "resultado = solver.solve(model, tee=False)"
   ]
  },
  {
   "cell_type": "code",
   "execution_count": 118,
   "id": "c177eb50",
   "metadata": {},
   "outputs": [
    {
     "name": "stdout",
     "output_type": "stream",
     "text": [
      "Item d) Objetivo de minimizar o tempo máximo de atraso \n",
      "\n",
      "Tempo de fluxo total: 1313 minutos.\n",
      "Atraso máximo: 219 minutos.\n",
      "\n",
      "Atraso da tarefa 1: 17\n",
      "Conclusão da tarefa 1: 117\n",
      "Entrega da tarefa 1: 100\n",
      "\n",
      "Atraso da tarefa 2: -17\n",
      "Conclusão da tarefa 2: 53\n",
      "Entrega da tarefa 2: 70\n",
      "\n",
      "Atraso da tarefa 3: 219\n",
      "Conclusão da tarefa 3: 369\n",
      "Entrega da tarefa 3: 150\n",
      "\n",
      "Atraso da tarefa 4: -133\n",
      "Conclusão da tarefa 4: 468\n",
      "Entrega da tarefa 4: 601\n",
      "\n",
      "Atraso da tarefa 5: 188\n",
      "Conclusão da tarefa 5: 306\n",
      "Entrega da tarefa 5: 118\n",
      "\n"
     ]
    }
   ],
   "source": [
    "# Apresentação de resultados\n",
    "if (resultado.solver.status == SolverStatus.ok) and (resultado.solver.termination_condition != TerminationCondition.infeasible):\n",
    "    print('Item d) Objetivo de minimizar o tempo máximo de atraso \\n')\n",
    "    print('Tempo de fluxo total: {:.0f} minutos.'.format(sum(value(C[i]) for i in T)))\n",
    "    print('Atraso máximo: {:.0f} minutos.'.format(value(model.obj)))\n",
    "    print()\n",
    "    for i in T:\n",
    "        if i > 0:\n",
    "            print('Atraso da tarefa {}: {:.0f}'.format(i, value(C[i] - d[i])))\n",
    "            print('Conclusão da tarefa {}: {:.0f}'.format(i, value(C[i])))\n",
    "            print('Entrega da tarefa {}: {:.0f}'.format(i, value(d[i])))\n",
    "            print()\n",
    "else:\n",
    "    print(resultado.solver.termination_condition)"
   ]
  }
 ],
 "metadata": {
  "kernelspec": {
   "display_name": "Python 3 (ipykernel)",
   "language": "python",
   "name": "python3"
  },
  "language_info": {
   "codemirror_mode": {
    "name": "ipython",
    "version": 3
   },
   "file_extension": ".py",
   "mimetype": "text/x-python",
   "name": "python",
   "nbconvert_exporter": "python",
   "pygments_lexer": "ipython3",
   "version": "3.9.5"
  }
 },
 "nbformat": 4,
 "nbformat_minor": 5
}
