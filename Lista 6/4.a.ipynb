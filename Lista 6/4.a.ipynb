{
 "cells": [
  {
   "cell_type": "code",
   "execution_count": 6,
   "id": "66613622",
   "metadata": {},
   "outputs": [],
   "source": [
    "# Módulos\n",
    "from pyomo.environ import *\n",
    "from pyomo.opt import SolverFactory"
   ]
  },
  {
   "cell_type": "code",
   "execution_count": 7,
   "id": "c71ab4c2",
   "metadata": {},
   "outputs": [],
   "source": [
    "# Dados\n",
    "Moveis = [0, 'Escrivaninha 1', 'Escrivaninha 2', 'Mesa 1', \n",
    "          'Armário 1', 'Armário 2', 'Armário 3', 'Prateleira 1']\n",
    "tempo_producao = {0: 0, 'Escrivaninha 1': 3, 'Escrivaninha 2': 3, 'Mesa 1': 1, \n",
    "                  'Armário 1': 2, 'Armário 2': 2, 'Armário 3': 2, 'Prateleira 1': 1}\n",
    "horario_entrega = {0: 0, 'Escrivaninha 1': 12, 'Escrivaninha 2': 16, 'Mesa 1': 13, \n",
    "                   'Armário 1': 14, 'Armário 2': 17, 'Armário 3': 19, 'Prateleira 1': 14}\n",
    "inicio = 7\n",
    "R = 10**5"
   ]
  },
  {
   "cell_type": "code",
   "execution_count": 21,
   "id": "b005eb16",
   "metadata": {},
   "outputs": [],
   "source": [
    "# Modelo\n",
    "model = ConcreteModel()\n",
    "\n",
    "# Conjuntos\n",
    "model.M = Set(initialize=Moveis)\n",
    "M = model.M\n",
    "\n",
    "# Parâmetros\n",
    "model.p = Param(M, initialize=tempo_producao, within=NonNegativeReals)\n",
    "model.h = Param(M, initialize=horario_entrega, within=NonNegativeReals)\n",
    "model.I = Param(initialize=inicio, within=NonNegativeReals)\n",
    "p, h, I = model.p, model.h, model.I\n",
    "\n",
    "# Variáveis de decisão\n",
    "model.x = Var(M * M, within=Binary)\n",
    "model.C = Var(M, within=NonNegativeReals)\n",
    "model.T = Var(M, within=NonNegativeReals)\n",
    "x, C, T = model.x, model.C, model.T\n",
    "\n",
    "# Função objetivo\n",
    "model.obj = Objective(sense=minimize,\n",
    "                      expr = sum(T[i] for i in M))\n",
    "\n",
    "# Restrições\n",
    "# Um sucessor por tarefa\n",
    "model.r_sucessor = ConstraintList()\n",
    "for i in M:\n",
    "    model.r_sucessor.add(expr = sum(x[i, j] for j in M if j != i) == 1)\n",
    "# Um antecessor por tarefa\n",
    "model.r_antecessor = ConstraintList()\n",
    "for j in M:\n",
    "    model.r_antecessor.add(expr = sum(x[i, j] for i in M if i != j) == 1)\n",
    "# Tempo de término\n",
    "model.r_termino = ConstraintList()\n",
    "model.r_termino.add(expr = C[0] == I)\n",
    "for i in M:\n",
    "    for j in M:\n",
    "        if j != i and j != 0:\n",
    "            model.r_termino.add(expr = C[j] >= C[i] + p[j] * x[i, j] + R * (x[i, j] - 1))\n",
    "# Tempos de atraso positivos\n",
    "model.r_atraso = ConstraintList()\n",
    "for i in M:\n",
    "    if i != 0:\n",
    "        model.r_atraso.add(expr = T[i] >= C[i] - h[i])\n",
    "\n",
    "# model.pprint()"
   ]
  },
  {
   "cell_type": "code",
   "execution_count": 22,
   "id": "411bf2a2",
   "metadata": {},
   "outputs": [],
   "source": [
    "# Resolução\n",
    "solver = SolverFactory('cplex')\n",
    "resultado = solver.solve(model, tee=False)"
   ]
  },
  {
   "cell_type": "code",
   "execution_count": 28,
   "id": "f7bcc979",
   "metadata": {},
   "outputs": [
    {
     "name": "stdout",
     "output_type": "stream",
     "text": [
      "Móvel 0 precede o Prateleira 1.\n",
      "Móvel Escrivaninha 1 precede o Armário 1.\n",
      "Móvel Escrivaninha 2 precede o 0.\n",
      "Móvel Mesa 1 precede o Escrivaninha 1.\n",
      "Móvel Armário 1 precede o Armário 2.\n",
      "Móvel Armário 2 precede o Armário 3.\n",
      "Móvel Armário 3 precede o Escrivaninha 2.\n",
      "Móvel Prateleira 1 precede o Mesa 1.\n",
      "\n",
      "Instante de conclusão do móvel 0: 7.00 horas.\n",
      "Instante de conclusão do móvel Escrivaninha 1: 12.00 horas.\n",
      "Instante de conclusão do móvel Escrivaninha 2: 21.00 horas.\n",
      "Instante de conclusão do móvel Mesa 1: 9.00 horas.\n",
      "Instante de conclusão do móvel Armário 1: 14.00 horas.\n",
      "Instante de conclusão do móvel Armário 2: 16.00 horas.\n",
      "Instante de conclusão do móvel Armário 3: 18.00 horas.\n",
      "Instante de conclusão do móvel Prateleira 1: 8.00 horas.\n",
      "\n",
      "Mínima soma de atrasos resulta em 5 horas\n"
     ]
    }
   ],
   "source": [
    "# Apresentação de resultados\n",
    "if (resultado.solver.status == SolverStatus.ok) and (resultado.solver.termination_condition != TerminationCondition.infeasible):\n",
    "    for i in M:\n",
    "        for j in M:\n",
    "            if i != j and value(x[i,j]) == 1:\n",
    "                print('Móvel {} precede o {}.'.format(i, j))\n",
    "    print()\n",
    "    for i in M:\n",
    "        print('Instante de conclusão do móvel {}: {:.2f} horas.'.format(i, value(C[i])))\n",
    "    print()\n",
    "    print('Mínima soma de atrasos resulta em {:.0f} horas'.format(value(model.obj)))\n",
    "else:\n",
    "    print(resultado.solver.termination_condition)"
   ]
  }
 ],
 "metadata": {
  "kernelspec": {
   "display_name": "Python 3 (ipykernel)",
   "language": "python",
   "name": "python3"
  },
  "language_info": {
   "codemirror_mode": {
    "name": "ipython",
    "version": 3
   },
   "file_extension": ".py",
   "mimetype": "text/x-python",
   "name": "python",
   "nbconvert_exporter": "python",
   "pygments_lexer": "ipython3",
   "version": "3.9.5"
  }
 },
 "nbformat": 4,
 "nbformat_minor": 5
}
