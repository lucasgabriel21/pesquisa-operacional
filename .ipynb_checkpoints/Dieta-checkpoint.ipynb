{
 "cells": [
  {
   "cell_type": "code",
   "execution_count": 13,
   "id": "cfd70ace",
   "metadata": {},
   "outputs": [],
   "source": [
    "# Dados\n",
    "Alimentos = ['Amendoim', 'Arroz', 'Aveia', 'Banana', 'Batata doce', 'Hipercalórico', \n",
    "             'Ovo', 'Pasta de amendoim', 'Peito de frango', 'Pão']\n",
    "\n",
    "Nutrientes = ['Calorias', 'Carboidratos', 'Proteínas', 'Gorduras']\n",
    "\n",
    "preco = {'Amendoim': 0.015, 'Arroz': 0.004, 'Aveia': 0.01, 'Banana': 0.006, 'Batata doce': 0.002, 'Hipercalórico': 0.023, \n",
    "             'Ovo': 0.014, 'Pasta de amendoim': 0.029, 'Peito de frango': 0.024, 'Pão': 0.02}\n",
    "\n",
    "qtd_minima_A = {'Amendoim': 0, 'Arroz': 0, 'Aveia': 0, 'Banana': 0, 'Batata doce': 0, 'Hipercalórico': 0, \n",
    "             'Ovo': 0, 'Pasta de amendoim': 0, 'Peito de frango': 0, 'Pão': 0}\n",
    "\n",
    "qtd_maxima_A = {'Amendoim': 9999, 'Arroz': 9999, 'Aveia': 9999, 'Banana': 9999, 'Batata doce': 9999, 'Hipercalórico': 9999, \n",
    "             'Ovo': 9999, 'Pasta de amendoim': 9999, 'Peito de frango': 9999, 'Pão': 9999}\n",
    "\n",
    "qtd_minima_N = {'Calorias': 0, 'Carboidratos': 0, 'Proteínas': 0, 'Gorduras': 0}\n",
    "\n",
    "qtd_maxima_N = {'Calorias': 9999, 'Carboidratos': 9999, 'Proteínas': 9999, 'Gorduras': 9999}\n",
    "\n",
    "tabela_nutricional = {\n",
    "                      ('Amendoim', 'Calorias'): 6.058, ('Amendoim', 'Carboidratos'): 0.187, ('Amendoim', 'Proteínas'): 0.225,('Amendoim', 'Gorduras'): 0.530,\n",
    "                      ('Arroz', 'Calorias'): 1.283, ('Arroz', 'Carboidratos'): 0.281, ('Arroz', 'Proteínas'): 0.025, ('Arroz', 'Gorduras'): 0.002,\n",
    "                      ('Aveia', 'Calorias'): 3.983, ('Aveia', 'Carboidratos'): 0.666, ('Aveia', 'Proteínas'): 0.139, ('Aveia', 'Gorduras'): 0.075, \n",
    "                      ('Banana', 'Calorias'): 0.915, ('Banana', 'Carboidratos'): 0.239, ('Banana', 'Proteínas'): 0.014, ('Banana', 'Gorduras'): 0,  \n",
    "                      ('Batata doce', 'Calorias'): 0.768, ('Batata doce', 'Carboidratos'): 0.184, ('Batata doce', 'Proteínas'): 0.006, ('Batata doce', 'Gorduras'): 0, \n",
    "                      ('Hipercalórico', 'Calorias'): 3.756, ('Hipercalórico', 'Carboidratos'): 0.813, ('Hipercalórico', 'Proteínas'): 0.094, ('Hipercalórico', 'Gorduras'): 0.014, \n",
    "                      ('Ovo', 'Calorias'): 2.402, ('Ovo', 'Carboidratos'): 0.012, ('Ovo', 'Proteínas'): 0.156, ('Ovo', 'Gorduras'): 0.149,\n",
    "                      ('Pasta de amendoim', 'Calorias'): 6.067, ('Pasta de amendoim', 'Carboidratos'): 0.2, ('Pasta de amendoim', 'Proteínas'): 0.273, ('Pasta de amendoim', 'Gorduras'): 0.467, \n",
    "                      ('Peito de frango', 'Calorias'): 1.592, ('Peito de frango', 'Carboidratos'): 0, ('Peito de frango', 'Proteínas'): 0.32, ('Peito de frango', 'Gorduras'): 0.021, \n",
    "                      ('Pão', 'Calorias'): 3.1, ('Pão', 'Carboidratos'): 0.58, ('Pão', 'Proteínas'): 0.08, ('Pão', 'Gorduras'): 0.054\n",
    "                      }\n"
   ]
  },
  {
   "cell_type": "code",
   "execution_count": 14,
   "id": "f5849db9",
   "metadata": {},
   "outputs": [],
   "source": [
    "# Módulos\n",
    "from pyomo.environ import *\n",
    "from pyomo.opt import SolverFactory"
   ]
  },
  {
   "cell_type": "code",
   "execution_count": 18,
   "id": "71dd65a9",
   "metadata": {},
   "outputs": [
    {
     "name": "stdout",
     "output_type": "stream",
     "text": [
      "2 Set Declarations\n",
      "    A : Size=1, Index=None, Ordered=Insertion\n",
      "        Key  : Dimen : Domain : Size : Members\n",
      "        None :     1 :    Any :   10 : {'Amendoim', 'Arroz', 'Aveia', 'Banana', 'Batata doce', 'Hipercalórico', 'Ovo', 'Pasta de amendoim', 'Peito de frango', 'Pão'}\n",
      "    N : Size=1, Index=None, Ordered=Insertion\n",
      "        Key  : Dimen : Domain : Size : Members\n",
      "        None :     1 :    Any :    4 : {'Calorias', 'Carboidratos', 'Proteínas', 'Gorduras'}\n",
      "\n",
      "1 Var Declarations\n",
      "    x : Size=10, Index=A\n",
      "        Key               : Lower : Value : Upper : Fixed : Stale : Domain\n",
      "                 Amendoim :     0 :  None :  None : False :  True : NonNegativeReals\n",
      "                    Arroz :     0 :  None :  None : False :  True : NonNegativeReals\n",
      "                    Aveia :     0 :  None :  None : False :  True : NonNegativeReals\n",
      "                   Banana :     0 :  None :  None : False :  True : NonNegativeReals\n",
      "              Batata doce :     0 :  None :  None : False :  True : NonNegativeReals\n",
      "            Hipercalórico :     0 :  None :  None : False :  True : NonNegativeReals\n",
      "                      Ovo :     0 :  None :  None : False :  True : NonNegativeReals\n",
      "        Pasta de amendoim :     0 :  None :  None : False :  True : NonNegativeReals\n",
      "          Peito de frango :     0 :  None :  None : False :  True : NonNegativeReals\n",
      "                      Pão :     0 :  None :  None : False :  True : NonNegativeReals\n",
      "\n",
      "1 Objective Declarations\n",
      "    obj : Size=0, Index=None, Active=True\n",
      "        Key : Active : Sense : Expression\n",
      "\n",
      "4 Declarations: A N x obj\n"
     ]
    }
   ],
   "source": [
    "# Modelo\n",
    "model = ConcreteModel()\n",
    "\n",
    "# Conjuntos\n",
    "model.A = Set(initialize=Alimentos)\n",
    "model.N = Set(initialize=Nutrientes)\n",
    "\n",
    "# Parâmetros\n",
    "\n",
    "\n",
    "# Variáveis de decisão\n",
    "model.x = Var(model.A, within=NonNegativeReals)\n",
    "\n",
    "# Função objetivo\n",
    "#model.obj = Objective(sense=minimize,\n",
    "#                      expr = sum())\n",
    "\n",
    "# Restrições\n",
    "\n",
    "\n",
    "model.pprint()"
   ]
  },
  {
   "cell_type": "code",
   "execution_count": null,
   "id": "742c8d91",
   "metadata": {},
   "outputs": [],
   "source": []
  }
 ],
 "metadata": {
  "kernelspec": {
   "display_name": "Python 3 (ipykernel)",
   "language": "python",
   "name": "python3"
  },
  "language_info": {
   "codemirror_mode": {
    "name": "ipython",
    "version": 3
   },
   "file_extension": ".py",
   "mimetype": "text/x-python",
   "name": "python",
   "nbconvert_exporter": "python",
   "pygments_lexer": "ipython3",
   "version": "3.9.5"
  }
 },
 "nbformat": 4,
 "nbformat_minor": 5
}
