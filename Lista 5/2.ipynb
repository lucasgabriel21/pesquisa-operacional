{
 "cells": [
  {
   "cell_type": "code",
   "execution_count": 44,
   "id": "e4269fe4",
   "metadata": {},
   "outputs": [],
   "source": [
    "# Módulos\n",
    "from pyomo.environ import *\n",
    "from pyomo.opt import SolverFactory"
   ]
  },
  {
   "cell_type": "code",
   "execution_count": 45,
   "id": "142e23ae",
   "metadata": {},
   "outputs": [],
   "source": [
    "# Dados\n",
    "Tarefa = [n for n in range(1,11)]\n",
    "Estacao = [m for m in range(1,11)]\n",
    "tempos = {1: 6, 2: 6, 3: 5, 4: 5, 5: 4, 6: 5, 7: 4, 8: 2, 9: 9, 10: 2}\n",
    "ciclo = 9\n",
    "precedencia = [(1,2), (1,5), (2,7), (3,4), (4,5), (5,6), (6,8), (7,8), (8,9), (9,10)]"
   ]
  },
  {
   "cell_type": "code",
   "execution_count": 46,
   "id": "79a22c0a",
   "metadata": {
    "scrolled": false
   },
   "outputs": [],
   "source": [
    "# Modelo\n",
    "model = ConcreteModel()\n",
    "\n",
    "# Conjuntos\n",
    "model.T = Set(initialize=Tarefa)\n",
    "model.E = Set(initialize=Estacao)\n",
    "T,E = model.T, model.E\n",
    "\n",
    "# Parâmetros\n",
    "model.t = Param(T, initialize=tempos, within=NonNegativeReals)\n",
    "model.c = Param(initialize=ciclo)\n",
    "t, c = model.t, model.c\n",
    "\n",
    "# Variáveis de decisão\n",
    "model.x = Var(T * E, within=Binary)\n",
    "x = model.x\n",
    "\n",
    "# Função objetivo\n",
    "model.obj = Objective(sense=minimize,\n",
    "                      expr = sum(j * x[T.at(-1), j] for j in E))\n",
    "\n",
    "# Restrições\n",
    "# Indivisibilidade \n",
    "model.r_indiv = ConstraintList()\n",
    "for i in T:\n",
    "    model.r_indiv.add(expr = sum(x[i, j] for j in E) == 1)\n",
    "# Carga respeita ciclo\n",
    "model.r_ciclo = ConstraintList()\n",
    "for j in E:\n",
    "    model.r_ciclo.add(expr = sum(t[i]*x[i,j] for i in T) <= c)\n",
    "# Precedencia\n",
    "model.r_preced = ConstraintList()\n",
    "for par in precedencia:\n",
    "    i = par[0]\n",
    "    k = par[1]\n",
    "    model.r_preced.add(expr = sum(j*x[i,j] for j in E) - sum(j*x[k,j] for j in E) <= 0)\n",
    "\n",
    "# model.pprint()"
   ]
  },
  {
   "cell_type": "code",
   "execution_count": 47,
   "id": "cb99dcb3",
   "metadata": {},
   "outputs": [],
   "source": [
    "# Resolução\n",
    "solver = SolverFactory('glpk')\n",
    "resultado = solver.solve(model, tee = False)"
   ]
  },
  {
   "cell_type": "code",
   "execution_count": 48,
   "id": "c1967e36",
   "metadata": {},
   "outputs": [
    {
     "name": "stdout",
     "output_type": "stream",
     "text": [
      "Tarefa 1 vai na máquina 1\n",
      "\n",
      "Tarefa 2 vai na máquina 2\n",
      "\n",
      "Tarefa 3 vai na máquina 3\n",
      "\n",
      "Tarefa 7 vai na máquina 3\n",
      "\n",
      "Tarefa 4 vai na máquina 4\n",
      "\n",
      "Tarefa 5 vai na máquina 4\n",
      "\n",
      "Tarefa 6 vai na máquina 5\n",
      "\n",
      "Tarefa 8 vai na máquina 5\n",
      "\n",
      "Tarefa 9 vai na máquina 6\n",
      "\n",
      "Tarefa 10 vai na máquina 7\n",
      "\n"
     ]
    }
   ],
   "source": [
    "# Apresentação de resultados\n",
    "if (resultado.solver.status == SolverStatus.ok) and (resultado.solver.termination_condition != TerminationCondition.infeasible):\n",
    "    for j in E:\n",
    "        for i in T:\n",
    "            if value(x[i,j]) == 1:\n",
    "                print('Tarefa {} vai na máquina {}\\n'.format(i,j))\n",
    "else:\n",
    "    print(resultado.solver.termination_condition)"
   ]
  }
 ],
 "metadata": {
  "kernelspec": {
   "display_name": "Python 3 (ipykernel)",
   "language": "python",
   "name": "python3"
  },
  "language_info": {
   "codemirror_mode": {
    "name": "ipython",
    "version": 3
   },
   "file_extension": ".py",
   "mimetype": "text/x-python",
   "name": "python",
   "nbconvert_exporter": "python",
   "pygments_lexer": "ipython3",
   "version": "3.9.5"
  }
 },
 "nbformat": 4,
 "nbformat_minor": 5
}
