{
 "cells": [
  {
   "cell_type": "code",
   "execution_count": 13,
   "id": "4199e032",
   "metadata": {},
   "outputs": [],
   "source": [
    "# Módulos\n",
    "from pyomo.environ import *\n",
    "from pyomo.opt import SolverFactory"
   ]
  },
  {
   "cell_type": "code",
   "execution_count": 14,
   "id": "08c1890a",
   "metadata": {},
   "outputs": [],
   "source": [
    "# Dados\n",
    "Tarefa = [i for i in range(1, 8)]\n",
    "Estacao = [i for i in range(1, 8)]\n",
    "tempos = {1: 15, 2: 19, 3: 11, 4: 17, 5: 12, 6: 21, 7:10}\n",
    "precedencia = [(1, 3), (2, 3), (1, 4), (3, 5), (4, 6), (5, 7), (6, 7)]\n",
    "ciclo = 45"
   ]
  },
  {
   "cell_type": "code",
   "execution_count": 15,
   "id": "a92b6928",
   "metadata": {},
   "outputs": [],
   "source": [
    "# Modelo\n",
    "model = ConcreteModel()\n",
    "\n",
    "# Conjuntos\n",
    "model.T = Set(initialize=Tarefa)\n",
    "model.E = Set(initialize=Estacao)\n",
    "T,E = model.T, model.E\n",
    "\n",
    "# Parâmetros\n",
    "model.t = Param(T, initialize=tempos, within=NonNegativeReals)\n",
    "model.c = Param(initialize=ciclo)\n",
    "t, c = model.t, model.c\n",
    "\n",
    "# Variáveis de decisão\n",
    "model.x = Var(T * E, within=Binary)\n",
    "x = model.x\n",
    "\n",
    "# Função objetivo\n",
    "model.obj = Objective(sense=minimize,\n",
    "                      expr = sum(j * x[T.at(-1), j] for j in E))\n",
    "\n",
    "# Restrições\n",
    "# Indivisibilidade \n",
    "model.r_indiv = ConstraintList()\n",
    "for i in T:\n",
    "    model.r_indiv.add(expr = sum(x[i, j] for j in E) == 1)\n",
    "# Carga respeita ciclo\n",
    "model.r_ciclo = ConstraintList()\n",
    "for j in E:\n",
    "    model.r_ciclo.add(expr = sum(t[i]*x[i,j] for i in T) <= c)\n",
    "# Precedencia\n",
    "model.r_preced = ConstraintList()\n",
    "for par in precedencia:\n",
    "    i = par[0]\n",
    "    k = par[1]\n",
    "    model.r_preced.add(expr = sum(j*x[i,j] for j in E) - sum(j*x[k,j] for j in E) <= 0)\n",
    "\n",
    "# model.pprint()"
   ]
  },
  {
   "cell_type": "code",
   "execution_count": 16,
   "id": "ebd23e6b",
   "metadata": {},
   "outputs": [],
   "source": [
    "# Resolução\n",
    "solver = SolverFactory('glpk')\n",
    "resultado = solver.solve(model, tee = False)"
   ]
  },
  {
   "cell_type": "code",
   "execution_count": 20,
   "id": "eb8568cc",
   "metadata": {},
   "outputs": [
    {
     "name": "stdout",
     "output_type": "stream",
     "text": [
      "Tarefa 1 vai para o operador 1\n",
      "\n",
      "Tarefa 2 vai para o operador 1\n",
      "\n",
      "Tarefa 3 vai para o operador 1\n",
      "\n",
      "Tarefa 4 vai para o operador 2\n",
      "\n",
      "Tarefa 5 vai para o operador 2\n",
      "\n",
      "Tarefa 6 vai para o operador 3\n",
      "\n",
      "Tarefa 7 vai para o operador 3\n",
      "\n"
     ]
    }
   ],
   "source": [
    "# Apresentação de resultados\n",
    "if (resultado.solver.status == SolverStatus.ok) and (resultado.solver.termination_condition != TerminationCondition.infeasible):\n",
    "    for j in E:\n",
    "        for i in T:\n",
    "            if value(x[i,j]) == 1:\n",
    "                print('Tarefa {} vai para o operador {}\\n'.format(i,j))\n",
    "else:\n",
    "    print(resultado.solver.termination_condition)"
   ]
  }
 ],
 "metadata": {
  "kernelspec": {
   "display_name": "Python 3 (ipykernel)",
   "language": "python",
   "name": "python3"
  },
  "language_info": {
   "codemirror_mode": {
    "name": "ipython",
    "version": 3
   },
   "file_extension": ".py",
   "mimetype": "text/x-python",
   "name": "python",
   "nbconvert_exporter": "python",
   "pygments_lexer": "ipython3",
   "version": "3.9.5"
  }
 },
 "nbformat": 4,
 "nbformat_minor": 5
}
