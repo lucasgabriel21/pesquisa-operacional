{
 "cells": [
  {
   "cell_type": "code",
   "execution_count": 1,
   "id": "3804428e",
   "metadata": {},
   "outputs": [],
   "source": [
    "# Bibliotecas\n",
    "import pyomo.environ as pyo\n",
    "from pyomo.environ import *\n",
    "from pyomo.opt import SolverFactory\n",
    "import xlwings as xw\n",
    "import pandas as pd"
   ]
  },
  {
   "cell_type": "code",
   "execution_count": 2,
   "id": "34357925",
   "metadata": {
    "scrolled": false
   },
   "outputs": [],
   "source": [
    "# Dados\n",
    "wb = xw.Book('dados_1.xlsx')\n",
    "sheet = wb.sheets['Plan1']\n",
    "# Conjuntos\n",
    "Clientes = sheet.range(\"C2:G2\").value\n",
    "n = len(Clientes)  # Número de clientes (5)\n",
    "Veiculos = sheet.range(\"A12:A14\").value\n",
    "Nos = [i for i in range(n + 2)]\n",
    "# Parâmetros\n",
    "custo_transporte = sheet.range(\"A2:H9\").options(pd.DataFrame).value\n",
    "custo_transporte = custo_transporte.stack().to_dict()\n",
    "demanda = sheet.range(\"D12:E18\").options(dict).value\n",
    "capacidade = sheet.range(\"A12:B14\").options(dict).value"
   ]
  },
  {
   "cell_type": "code",
   "execution_count": 3,
   "id": "cb068fe6",
   "metadata": {
    "scrolled": false
   },
   "outputs": [],
   "source": [
    "# Modelo\n",
    "model = ConcreteModel()\n",
    "\n",
    "# Conjuntos\n",
    "model.C = Set(initialize=Clientes)\n",
    "model.K = Set(initialize=Veiculos)\n",
    "model.N = Set(initialize=Nos)\n",
    "C, K, N = model.C, model.K, model.N\n",
    "\n",
    "# Parâmetros\n",
    "model.Q = Param(K, initialize=capacidade, within=NonNegativeReals)\n",
    "model.d = Param(N, initialize=demanda, within=NonNegativeReals)\n",
    "model.c = Param(N * N, initialize=custo_transporte, within=NonNegativeReals)\n",
    "Q, d, c = model.Q, model.d, model.c\n",
    "\n",
    "# Variáveis de decisão\n",
    "model.x = Var(N * N * K, within=Binary)\n",
    "x = model.x\n",
    "\n",
    "# Função objetivo\n",
    "model.obj = Objective(expr=sum(sum(sum(c[i, j] * x[i, j, k] for j in N) for i in N) for k in K))\n",
    "\n",
    "# Restrições\n",
    "\n",
    "# 1) Cada cliente visitado uma vez\n",
    "model.r_visita = ConstraintList()\n",
    "for i in C:\n",
    "    model.r_visita.add(expr=sum(sum(x[i, j, k] for j in N if (j > 0 and j != i)) for k in K) == 1)\n",
    "    \n",
    "# 2) O mesmo veículo visita antecessor/sucessor\n",
    "model.r_fluxo = ConstraintList()\n",
    "for h in C:\n",
    "    for k in K:\n",
    "        model.r_fluxo.add(expr=sum(x[i, h, k] for i in N if (i < (n + 1) and i != h)) == \n",
    "                                   sum(x[h, j, k] for j in N if (j > 0 and j != h)))\n",
    "\n",
    "# 3) Capacidade máxima do veículo\n",
    "model.r_capacidade = ConstraintList()\n",
    "for k in K:\n",
    "    model.r_capacidade.add(expr=sum(sum(d[i] * x[i, j, k] for i in C) for j in N if (j != i and j > 0)) <= Q[k])\n",
    "\n",
    "# 4) Cada veículo deve sair do depósito\n",
    "model.r_saida = ConstraintList()\n",
    "for k in K:\n",
    "    model.r_saida.add(expr=sum(x[0, j, k] for j in N if j > 0) == 1)\n",
    "\n",
    "# 5) Cada veículo deve retornar ao depósito\n",
    "model.r_retorno = ConstraintList()\n",
    "for k in K:\n",
    "    model.r_retorno.add(expr=sum(x[i, n + 1, k] for i in N if i < (n + 1)) == 1)"
   ]
  },
  {
   "cell_type": "code",
   "execution_count": 4,
   "id": "e1ca4d15",
   "metadata": {
    "scrolled": true
   },
   "outputs": [],
   "source": [
    "# # Sub rotas\n",
    "# sub1 = [0, 6]\n",
    "# sub2 = [1, 2]\n",
    "# sub3 = [3, 4, 5]\n",
    "# sub4 = [3, 4]\n",
    "# sub5 = [4, 5]\n",
    "# sub6 = [1, 3, 2]\n",
    "# sub7 = [3, 5]\n",
    "# sub8 = [1, 2, 4]\n",
    "# sub9 = [3, 4, 2, 1]\n",
    "# sub10 = [1, 3]\n",
    "\n",
    "# sub_rotas = [sub1, sub2, sub3, sub4, sub5, sub6, sub7, sub8, sub9, sub10]\n",
    "\n",
    "# # Restrições para as subrotas dos nós\n",
    "# model.constraints = ConstraintList()\n",
    "# for sub in sub_rotas:\n",
    "#     for k in K:\n",
    "#         model.constraints.add(expr = sum(sum(x[i,j,k] for i in sub) for j in sub) <= len(sub) - 1)"
   ]
  },
  {
   "cell_type": "code",
   "execution_count": 5,
   "id": "9cdbdc05",
   "metadata": {},
   "outputs": [],
   "source": [
    "# Formulação de MTZ\n",
    "model.u = Var(N * K, within=NonNegativeReals)\n",
    "u = model.u\n",
    "\n",
    "model.r_u = ConstraintList()\n",
    "for i in C:\n",
    "    for k in K:\n",
    "        model.r_u.add(expr=u[i,k] <= Q[k])\n",
    "for i in N:\n",
    "    if N != n + 1:\n",
    "        for j in C:\n",
    "            if i != j:\n",
    "                for k in K:\n",
    "                    model.r_u.add(expr=u[j,k] >= u[i,k] + d[j]*x[i,j,k] + Q[k]*(x[i,j,k] - 1))"
   ]
  },
  {
   "cell_type": "code",
   "execution_count": 6,
   "id": "a2c2df02",
   "metadata": {},
   "outputs": [],
   "source": [
    "# Resolução\n",
    "solver = SolverFactory('cplex')\n",
    "resultado = solver.solve(model, tee = False)"
   ]
  },
  {
   "cell_type": "code",
   "execution_count": 7,
   "id": "b8102360",
   "metadata": {
    "scrolled": true
   },
   "outputs": [
    {
     "name": "stdout",
     "output_type": "stream",
     "text": [
      "Custo mínimo: R$67.0\n",
      "\n",
      "O Caminhao 1 vai de 0 para 1\n",
      "O Caminhao 1 vai de 1 para 2\n",
      "O Caminhao 1 vai de 2 para 6\n",
      "O Caminhao 2 vai de 0 para 5\n",
      "O Caminhao 2 vai de 3 para 4\n",
      "O Caminhao 2 vai de 4 para 6\n",
      "O Caminhao 2 vai de 5 para 3\n",
      "O Caminhao 3 vai de 0 para 6\n"
     ]
    }
   ],
   "source": [
    "if (resultado.solver.status == SolverStatus.ok) and (resultado.solver.termination_condition != TerminationCondition.infeasible):\n",
    "    print(f'Custo mínimo: R${value(model.obj)}')\n",
    "    print()\n",
    "    for k in K:\n",
    "        for i in N:\n",
    "            if i < n + 1:\n",
    "                for j in N:\n",
    "                    if i != j:\n",
    "                        if j > 0:\n",
    "                            if value(model.x[i,j,k]) == 1:\n",
    "                                print(f'O {k} vai de {i} para {j}')\n",
    "else:\n",
    "     print(resultado.solver.termination_condition)"
   ]
  }
 ],
 "metadata": {
  "kernelspec": {
   "display_name": "Python 3 (ipykernel)",
   "language": "python",
   "name": "python3"
  },
  "language_info": {
   "codemirror_mode": {
    "name": "ipython",
    "version": 3
   },
   "file_extension": ".py",
   "mimetype": "text/x-python",
   "name": "python",
   "nbconvert_exporter": "python",
   "pygments_lexer": "ipython3",
   "version": "3.9.5"
  }
 },
 "nbformat": 4,
 "nbformat_minor": 5
}
