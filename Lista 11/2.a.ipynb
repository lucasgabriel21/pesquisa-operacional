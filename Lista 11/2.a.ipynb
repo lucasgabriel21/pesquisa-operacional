{
 "cells": [
  {
   "cell_type": "code",
   "execution_count": 1,
   "id": "3532c1ef",
   "metadata": {},
   "outputs": [],
   "source": [
    "# Bibliotecas\n",
    "import pyomo.environ as pyo\n",
    "from pyomo.environ import *\n",
    "from pyomo.opt import SolverFactory\n",
    "import xlwings as xw\n",
    "import pandas as pd"
   ]
  },
  {
   "cell_type": "code",
   "execution_count": 2,
   "id": "f3d7f14a",
   "metadata": {},
   "outputs": [],
   "source": [
    "# Dados\n",
    "wb = xw.Book('dados_1.xlsx')\n",
    "sheet = wb.sheets['Plan2']\n",
    "\n",
    "# Conjuntos:\n",
    "Cidades =sheet.range('C2:K2').value\n",
    "n = len(Cidades)\n",
    "\n",
    "# Parâmetros\n",
    "distancia = sheet.range('B2:K11').options(pd.DataFrame).value.stack().to_dict()"
   ]
  },
  {
   "cell_type": "code",
   "execution_count": 3,
   "id": "dda9241c",
   "metadata": {},
   "outputs": [],
   "source": [
    "# Modelo\n",
    "model = ConcreteModel()\n",
    "\n",
    "# Conjuntos\n",
    "model.C = Set(initialize=Cidades)\n",
    "C = model.C\n",
    "\n",
    "# Parâmetros\n",
    "model.d = Param(C * C, initialize=distancia, within=NonNegativeReals)\n",
    "d = model.d\n",
    "\n",
    "# Variáveis de decisão\n",
    "model.x = Var(C * C, within=Binary)\n",
    "model.u = Var(C, within=NonNegativeReals)\n",
    "x, u = model.x, model.u\n",
    "\n",
    "# Função objetivo\n",
    "model.obj = Objective(expr=sum(sum(d[i, j] * x[i, j] for j in C if i != j) for i in C))\n",
    "\n",
    "# Restrições\n",
    "# Uma cidade visitada por vez\n",
    "model.r_visita = ConstraintList()\n",
    "for i in C:\n",
    "    model.r_visita.add(expr=sum(x[i, j] for j in C if j != i) == 1)\n",
    "# Cada cidade tem uma única antecessora\n",
    "model.r_antecessora = ConstraintList()\n",
    "for j in C:\n",
    "    model.r_antecessora.add(expr=sum(x[i, j] for i in C if i != j) == 1)\n",
    "# Formulação de TMZ\n",
    "model.r_TMZ = ConstraintList()\n",
    "model.r_TMZ.add(expr=u[1] == 0)\n",
    "for i in C:\n",
    "    for j in C:\n",
    "        if i != j and j > 1:\n",
    "            model.r_TMZ.add(expr=u[j] >= u[i] + x[i, j] - 10000 * (1 - x[i, j]))"
   ]
  },
  {
   "cell_type": "code",
   "execution_count": 4,
   "id": "f9bb5d62",
   "metadata": {},
   "outputs": [],
   "source": [
    "# Resolução\n",
    "solver = SolverFactory('cplex')\n",
    "resultado = solver.solve(model, tee = False)"
   ]
  },
  {
   "cell_type": "code",
   "execution_count": 5,
   "id": "c2500fb1",
   "metadata": {},
   "outputs": [
    {
     "name": "stdout",
     "output_type": "stream",
     "text": [
      "O vendedor vai da cidade 1 para 3\n",
      "O vendedor vai da cidade 2 para 8\n",
      "O vendedor vai da cidade 3 para 2\n",
      "O vendedor vai da cidade 4 para 9\n",
      "O vendedor vai da cidade 5 para 1\n",
      "O vendedor vai da cidade 6 para 5\n",
      "O vendedor vai da cidade 7 para 6\n",
      "O vendedor vai da cidade 8 para 4\n",
      "O vendedor vai da cidade 9 para 7\n",
      "\n",
      "A distância mínima obtida foi de 1357.9 km\n"
     ]
    }
   ],
   "source": [
    "if (resultado.solver.status == SolverStatus.ok) and (resultado.solver.termination_condition != TerminationCondition.infeasible):\n",
    "    for i in C:\n",
    "        for j in C:\n",
    "            if (i != j) and (value(x[i, j]) == 1):\n",
    "                print(f'O vendedor vai da cidade {int(i)} para {int(j)}')\n",
    "    print()\n",
    "    print(f'A distância mínima obtida foi de {value(model.obj)} km')\n",
    "else:\n",
    "     print(resultado.solver.termination_condition)"
   ]
  }
 ],
 "metadata": {
  "kernelspec": {
   "display_name": "Python 3 (ipykernel)",
   "language": "python",
   "name": "python3"
  },
  "language_info": {
   "codemirror_mode": {
    "name": "ipython",
    "version": 3
   },
   "file_extension": ".py",
   "mimetype": "text/x-python",
   "name": "python",
   "nbconvert_exporter": "python",
   "pygments_lexer": "ipython3",
   "version": "3.9.5"
  }
 },
 "nbformat": 4,
 "nbformat_minor": 5
}
