{
 "cells": [
  {
   "cell_type": "code",
   "execution_count": 1,
   "id": "e2dd8f87",
   "metadata": {},
   "outputs": [],
   "source": [
    "# Bibliotecas\n",
    "import xlwings as xw\n",
    "import pandas as pd"
   ]
  },
  {
   "cell_type": "code",
   "execution_count": 4,
   "id": "c4e2eaff",
   "metadata": {},
   "outputs": [],
   "source": [
    "# Planilha\n",
    "wb = xw.Book('dados_1.xlsx')\n",
    "sheet = wb.sheets['Plan2']\n",
    "\n",
    "# Dados\n",
    "Cidades = [int(c) for c in sheet.range('C2:K2').value]\n",
    "distancia = sheet.range('B2:K11').options(pd.DataFrame).value.stack().to_dict()"
   ]
  },
  {
   "cell_type": "code",
   "execution_count": 5,
   "id": "607d9606",
   "metadata": {},
   "outputs": [],
   "source": [
    "# 1. Inicializa a rota inicial, k é a cidade mais distante de 3\n",
    "u = 0\n",
    "for i in Cidades:\n",
    "    if i != 3:\n",
    "        if distancia[i, 3] > u:\n",
    "            k = i\n",
    "            u = distancia[i, 3]\n",
    "\n",
    "rota = [3, k, 3]"
   ]
  },
  {
   "cell_type": "code",
   "execution_count": 6,
   "id": "98d67146",
   "metadata": {},
   "outputs": [],
   "source": [
    "# 2. Inicializa contador de distâncias\n",
    "d = distancia[1, k] + distancia[k, 1]"
   ]
  },
  {
   "cell_type": "code",
   "execution_count": 7,
   "id": "328cf289",
   "metadata": {},
   "outputs": [],
   "source": [
    "while sum(rota) - rota[-1] != sum(Cidades):\n",
    "    # 3. Encontrar nó j mais distante da rota que ainda não foi visitado\n",
    "    s = {}\n",
    "    temp = []\n",
    "    for n in Cidades:\n",
    "        if n not in rota:\n",
    "            for c in rota:\n",
    "                temp.append(distancia[n, c])\n",
    "            s[n] = min(temp)\n",
    "            temp = []\n",
    "            \n",
    "    j = max(s, key=s.get)\n",
    "    \n",
    "    # 4. Obter dois nós i e k na rota para inserir j entre eles\n",
    "    s = {}\n",
    "    pares = []\n",
    "    for posicao, n in enumerate(rota):\n",
    "        i = n\n",
    "        if posicao + 1 < len(rota):\n",
    "            k = rota[posicao + 1]\n",
    "            pares.append((posicao, posicao + 1))\n",
    "            s[pares[-1]] = distancia[i, j] + distancia[j, k] - distancia[i, k] \n",
    "\n",
    "    p = min(s, key=s.get)\n",
    "    \n",
    "    # 5. Atualização da distância\n",
    "    d += distancia[rota[p[0]], j] + distancia[j, rota[p[1]]] - distancia[rota[p[0]], rota[p[1]]]\n",
    "    \n",
    "    # 6. Inserção de j à rota entre os nós i e k\n",
    "    rota.insert(p[1], j)\n",
    "    \n",
    "    # 7. repete enquanto todas as cidades não forem percorridas"
   ]
  },
  {
   "cell_type": "code",
   "execution_count": 8,
   "id": "562955fd",
   "metadata": {},
   "outputs": [
    {
     "data": {
      "text/plain": [
       "[3, 2, 8, 4, 9, 7, 6, 5, 1, 3]"
      ]
     },
     "execution_count": 8,
     "metadata": {},
     "output_type": "execute_result"
    }
   ],
   "source": [
    "rota"
   ]
  },
  {
   "cell_type": "code",
   "execution_count": 9,
   "id": "1b13b19a",
   "metadata": {},
   "outputs": [
    {
     "data": {
      "text/plain": [
       "1198.9"
      ]
     },
     "execution_count": 9,
     "metadata": {},
     "output_type": "execute_result"
    }
   ],
   "source": [
    "d"
   ]
  }
 ],
 "metadata": {
  "kernelspec": {
   "display_name": "Python 3 (ipykernel)",
   "language": "python",
   "name": "python3"
  },
  "language_info": {
   "codemirror_mode": {
    "name": "ipython",
    "version": 3
   },
   "file_extension": ".py",
   "mimetype": "text/x-python",
   "name": "python",
   "nbconvert_exporter": "python",
   "pygments_lexer": "ipython3",
   "version": "3.9.5"
  }
 },
 "nbformat": 4,
 "nbformat_minor": 5
}
