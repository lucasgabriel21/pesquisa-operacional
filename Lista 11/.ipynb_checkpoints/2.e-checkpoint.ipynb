{
 "cells": [
  {
   "cell_type": "code",
   "execution_count": 45,
   "id": "a7d56fd6",
   "metadata": {},
   "outputs": [],
   "source": [
    "# Bibliotecas\n",
    "import pyomo.environ as pyo\n",
    "from pyomo.environ import *\n",
    "from pyomo.opt import SolverFactory\n",
    "import xlwings as xw\n",
    "import pandas as pd"
   ]
  },
  {
   "cell_type": "code",
   "execution_count": 46,
   "id": "bb1f3932",
   "metadata": {},
   "outputs": [],
   "source": [
    "# Conexão com a planilha\n",
    "wb = xw.Book('dados_1.xlsx')\n",
    "sheet = wb.sheets['Plan3']"
   ]
  },
  {
   "cell_type": "code",
   "execution_count": 47,
   "id": "0ed85d8a",
   "metadata": {},
   "outputs": [],
   "source": [
    "# Conjuntos\n",
    "Clientes = sheet.range('D2:H2').value; n = len(Clientes)  # Número de clientes\n",
    "Nos = sheet.range('C2:I2').value"
   ]
  },
  {
   "cell_type": "code",
   "execution_count": 59,
   "id": "8d37aed5",
   "metadata": {},
   "outputs": [
    {
     "ename": "TypeError",
     "evalue": "unsupported operand type(s) for /: 'dict' and 'float'",
     "output_type": "error",
     "traceback": [
      "\u001b[1;31m---------------------------------------------------------------------------\u001b[0m",
      "\u001b[1;31mTypeError\u001b[0m                                 Traceback (most recent call last)",
      "\u001b[1;32m~\\AppData\\Local\\Temp/ipykernel_17472/23116057.py\u001b[0m in \u001b[0;36m<module>\u001b[1;34m\u001b[0m\n\u001b[0;32m      8\u001b[0m \u001b[0mtempo_final\u001b[0m \u001b[1;33m=\u001b[0m \u001b[0msheet\u001b[0m\u001b[1;33m.\u001b[0m\u001b[0mrange\u001b[0m\u001b[1;33m(\u001b[0m\u001b[1;34m'D21:E27'\u001b[0m\u001b[1;33m)\u001b[0m\u001b[1;33m.\u001b[0m\u001b[0moptions\u001b[0m\u001b[1;33m(\u001b[0m\u001b[0mdict\u001b[0m\u001b[1;33m)\u001b[0m\u001b[1;33m.\u001b[0m\u001b[0mvalue\u001b[0m\u001b[1;33m\u001b[0m\u001b[1;33m\u001b[0m\u001b[0m\n\u001b[0;32m      9\u001b[0m \u001b[0mtempo_servico\u001b[0m \u001b[1;33m=\u001b[0m \u001b[0msheet\u001b[0m\u001b[1;33m.\u001b[0m\u001b[0mrange\u001b[0m\u001b[1;33m(\u001b[0m\u001b[1;34m'G21:H27'\u001b[0m\u001b[1;33m)\u001b[0m\u001b[1;33m.\u001b[0m\u001b[0moptions\u001b[0m\u001b[1;33m(\u001b[0m\u001b[0mdict\u001b[0m\u001b[1;33m)\u001b[0m\u001b[1;33m.\u001b[0m\u001b[0mvalue\u001b[0m\u001b[1;33m\u001b[0m\u001b[1;33m\u001b[0m\u001b[0m\n\u001b[1;32m---> 10\u001b[1;33m \u001b[0mtempo_viagem\u001b[0m \u001b[1;33m=\u001b[0m \u001b[0mdistancias\u001b[0m \u001b[1;33m/\u001b[0m \u001b[0mvelocidade\u001b[0m\u001b[1;33m\u001b[0m\u001b[1;33m\u001b[0m\u001b[0m\n\u001b[0m",
      "\u001b[1;31mTypeError\u001b[0m: unsupported operand type(s) for /: 'dict' and 'float'"
     ]
    }
   ],
   "source": [
    "# Parâmetros:\n",
    "distancias = sheet.range('B2:I9').options(pd.DataFrame).value.stack().to_dict()\n",
    "n_caminhoes = sheet.range('B11').value\n",
    "capacidade = sheet.range('B12').value\n",
    "velocidade = sheet.range('B13').value\n",
    "demanda = sheet.range('D12:E18').options(dict).value\n",
    "tempo_inicial = sheet.range('A21:B27').options(dict).value\n",
    "tempo_final = sheet.range('D21:E27').options(dict).value\n",
    "tempo_servico = sheet.range('G21:H27').options(dict).value\n",
    "tempo_viagem = distancias / velocidade"
   ]
  },
  {
   "cell_type": "code",
   "execution_count": null,
   "id": "dd4b9e8a",
   "metadata": {},
   "outputs": [],
   "source": []
  },
  {
   "cell_type": "code",
   "execution_count": 61,
   "id": "37518af6",
   "metadata": {},
   "outputs": [],
   "source": [
    "tempo_viagem = {k: v / velocidade for k, v in distancias}"
   ]
  },
  {
   "cell_type": "code",
   "execution_count": 62,
   "id": "132890d2",
   "metadata": {},
   "outputs": [
    {
     "data": {
      "text/plain": [
       "{0.0: 0.06, 1.0: 0.06, 2.0: 0.06, 3.0: 0.06, 4.0: 0.06, 5.0: 0.06, 6.0: 0.06}"
      ]
     },
     "execution_count": 62,
     "metadata": {},
     "output_type": "execute_result"
    }
   ],
   "source": [
    "tempo_viagem"
   ]
  },
  {
   "cell_type": "code",
   "execution_count": 57,
   "id": "3838601a",
   "metadata": {},
   "outputs": [],
   "source": [
    "# Modelo\n",
    "model = ConcreteModel()\n",
    "\n",
    "# Conjuntos\n",
    "model.C = Set(initialize=Clientes)\n",
    "model.N = Set(initialize=Nos)\n",
    "C, N = model.C, model.N\n",
    "\n",
    "# Parâmetros\n",
    "model.D = Param(N * N, initialize=distancias, within=NonNegativeReals)\n",
    "model.c = Param(initialize=n_caminhoes, within=NonNegativeReals)\n",
    "model.Q = Param(initialize=capacidade, within=NonNegativeReals)\n",
    "model.v = Param(initialize=velocidade, within=NonNegativeReals)\n",
    "model.a = Param(N, initialize=demanda, within=NonNegativeReals)\n",
    "model.I = Param(N, initialize=tempo_inicial, within=NonNegativeReals)\n",
    "model.F = Param(N, initialize=tempo_final, within=NonNegativeReals)\n",
    "model.S = Param(N, initialize=tempo_servico, within=NonNegativeReals)\n",
    "D, c, Q, v, a, I, F, S = (model.D, model.c, model.Q, model.v, model.a,\n",
    "                          model.I, model.F, model.S)\n",
    "\n",
    "# Variáveis de decisão\n",
    "model.x = Var(N * N, within=Binary)\n",
    "model.u = Var(N, within=NonNegativeReals)\n",
    "model.t = Var(N, within=NonNegativeReals)\n",
    "x, u, w = model.x, model.u, model.w\n",
    "\n",
    "# Função objetivo\n",
    "model.obj = Objective(expr=sum(sum(D[i, j] * x[i, j] for j in N) for i in N))\n",
    "\n",
    "# Restrições\n",
    "# 1. Cada cliente visitado uma vez\n",
    "model.r_visita = ConstraintList()\n",
    "for i in C:\n",
    "    model.r_visita.add(expr=sum(x[i, j] for j in N if (j > 0 and j != i)) == 1)\n",
    "    \n",
    "# 2. Mesmo veículo visita antecessor/sucessor\n",
    "model.r_sucessor = ConstraintList()\n",
    "for h in C:\n",
    "    model.r_sucessor.add(expr=sum(x[i, h] for i in N if (i < n + 1 and i != h)) == sum(x[h, j] for j in N if (j > 0 and j != h)))\n",
    "    \n",
    "# 3. Veículo deve sair do depósito\n",
    "model.r_saida = ConstraintList()\n",
    "model.r_saida.add(expr=sum(x[0, j] for j in N if j > 0) <= 10**5)\n",
    "\n",
    "# 4. Veículo deve voltar ao depósito\n",
    "model.r_volta = ConstraintList()\n",
    "model.r_volta.add(expr=sum(x[i, n + 1] for i in N if (i < n + 1)) <= 10**5)\n",
    "\n",
    "# 5. Consistência das rotas\n",
    "model.r_fluxo = ConstraintList()\n",
    "model.r_fluxo.add(expr=sum(x[0, j] for j in N if j > 0) == sum(x[i, n + 1] for i in N if (i < n + 1)))\n",
    "\n",
    "# 6. Restrição MTZ\n",
    "model.r_MTZ = ConstraintList()\n",
    "model.r_MTZ.add(expr=u[0] == 0)\n",
    "for i in N:\n",
    "    model.r_MTZ.add(expr=u[i] <= Q)\n",
    "    if i != (n + 1):\n",
    "        for j in C:\n",
    "            if i != j:\n",
    "                model.r_MTZ.add(expr=u[j] >= u[i] + demanda[j] * x[i, j] + Q * (x[i, j] - 1))\n",
    "\n",
    "# 7. Restrições de tempo\n",
    "model.r_tempo = ConstraintList()\n",
    "for "
   ]
  },
  {
   "cell_type": "code",
   "execution_count": null,
   "id": "94e1f86d",
   "metadata": {},
   "outputs": [],
   "source": [
    "# Restrições\n",
    "# Tempo inicial\n",
    "model.r_tempo_inicio = ConstraintList()\n",
    "for k in K:\n",
    "    model.r_tempo_inicio.add(expr=t[0, k] == 420)\n",
    "\n",
    "# Tempo viajado\n",
    "model.r_tempo_viajado = ConstraintList()\n",
    "for i in N:\n",
    "    if i != n + 1:\n",
    "        for j in N:\n",
    "            if i != j:\n",
    "                for k in K:\n",
    "                    model.r_tempo_viajado.add(expr=t[j, k] >= t[i, k] + s[i] * x[i, j, k] + \n",
    "                                                   p[i, j] * x[i, j, k] + 100000 * (x[i, j, k] - 1))\n",
    "\n",
    "# Horários de término e início\n",
    "model.r_horario = ConstraintList()\n",
    "for k in K:\n",
    "    for i in C:\n",
    "        model.r_horario.add(expr=t[i, k] <= f[i])\n",
    "        model.r_horario.add(expr=t[i, k] >= l[i])"
   ]
  }
 ],
 "metadata": {
  "kernelspec": {
   "display_name": "Python 3 (ipykernel)",
   "language": "python",
   "name": "python3"
  },
  "language_info": {
   "codemirror_mode": {
    "name": "ipython",
    "version": 3
   },
   "file_extension": ".py",
   "mimetype": "text/x-python",
   "name": "python",
   "nbconvert_exporter": "python",
   "pygments_lexer": "ipython3",
   "version": "3.9.5"
  }
 },
 "nbformat": 4,
 "nbformat_minor": 5
}
