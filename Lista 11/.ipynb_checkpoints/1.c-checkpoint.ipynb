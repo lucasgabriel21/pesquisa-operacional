{
 "cells": [
  {
   "cell_type": "code",
   "execution_count": 235,
   "id": "67ded158",
   "metadata": {},
   "outputs": [],
   "source": [
    "# Bibliotecas\n",
    "import pyomo.environ as pyo\n",
    "from pyomo.environ import *\n",
    "from pyomo.opt import SolverFactory\n",
    "import xlwings as xw\n",
    "import pandas as pd"
   ]
  },
  {
   "cell_type": "code",
   "execution_count": 236,
   "id": "1c8f2abc",
   "metadata": {},
   "outputs": [],
   "source": [
    "# Dados\n",
    "wb = xw.Book('dados_1.xlsx')\n",
    "sheet = wb.sheets['Plan1']\n",
    "\n",
    "# Conjuntos\n",
    "Clientes = sheet.range(\"C2:G2\").value\n",
    "n = len(Clientes)  # Número de clientes (5)\n",
    "\n",
    "Veiculos = sheet.range(\"A12:A14\").value\n",
    "\n",
    "Nos = [i for i in range(n + 2)]\n",
    "\n",
    "# Parâmetros\n",
    "custo_transporte = sheet.range(\"A2:H9\").options(pd.DataFrame).value\n",
    "custo_transporte = custo_transporte.stack().to_dict()\n",
    "\n",
    "demanda = sheet.range(\"D12:E18\").options(dict).value\n",
    "\n",
    "capacidade = sheet.range(\"A12:B14\").options(dict).value\n",
    "\n",
    "tempo_viagem = custo_transporte.copy()\n",
    "\n",
    "tempo_servico = sheet.range(\"G21:H27\").options(dict).value\n",
    "\n",
    "horario_inicial = sheet.range(\"A21:B27\").options(dict).value\n",
    "\n",
    "horario_final = sheet.range(\"D21:E27\").options(dict).value"
   ]
  },
  {
   "cell_type": "code",
   "execution_count": 237,
   "id": "b4b0488c",
   "metadata": {},
   "outputs": [],
   "source": [
    "def proximo_no(nos, tempo, t_viagem, h_fechamento, rota):\n",
    "    \"\"\"\n",
    "    nos: lista de nós a serem visitados;\n",
    "    tempo: variável que acumula o tempo viajado;\n",
    "    t_viagem: tempo de viagem entre os pontos i e j;\n",
    "    h_fechamento: horario limite de chegada no nó;\n",
    "    rota: rota percorrida.\n",
    "    Retorna o ponto j, mais próximo de i que não foi visitado\n",
    "    e ainda é possível chegar antes do fechamento\n",
    "    \"\"\"\n",
    "    \n",
    "    c = 1000\n",
    "    i = rota[-1]\n",
    "    j = nos[-1]\n",
    "    \n",
    "    if i == 0:\n",
    "        for n in nos:\n",
    "            # Nó não foi visitado e não é o último\n",
    "            if n not in rota and n != nos[-1]:\n",
    "                # A chegada ao nó ocorre dentro do tempo de funcionamento\n",
    "                if (tempo + t_viagem[i, n] <= h_fechamento[n]):\n",
    "                    # Encontra o j mais próximo de i\n",
    "                    if t_viagem[i, n] < c:\n",
    "                        c = t_viagem[i, n]\n",
    "                        j = n\n",
    "    \n",
    "    elif i == nos[-1]:\n",
    "        j = 0\n",
    "    \n",
    "    else:\n",
    "        for n in nos:\n",
    "            # Se nó não foi visitado ou é o nó da fábrica\n",
    "            if n not in rota or n == nos[-1]:\n",
    "                 # A chegada ao nó ocorre dentro do tempo de funcionamento\n",
    "                if (tempo + t_viagem[i, n] <= h_fechamento[n]):\n",
    "                    # Encontra o j mais próximo de i\n",
    "                    if t_viagem[i, n] < c:\n",
    "                        c = t_viagem[i, n]\n",
    "                        j = n\n",
    "\n",
    "    return j"
   ]
  },
  {
   "cell_type": "code",
   "execution_count": 238,
   "id": "4dec5872",
   "metadata": {},
   "outputs": [],
   "source": [
    "# 1. Rota inicia em 0\n",
    "rota = [0]"
   ]
  },
  {
   "cell_type": "code",
   "execution_count": 239,
   "id": "4f702fdc",
   "metadata": {},
   "outputs": [],
   "source": [
    "# 2. Tempo inicia em 420 minutos (7h da manhã)\n",
    "tempo_inicial = 420 \n",
    "tempo = tempo_inicial\n",
    "# Custo inicial\n",
    "custo = 0"
   ]
  },
  {
   "cell_type": "code",
   "execution_count": 240,
   "id": "c4421ec5",
   "metadata": {},
   "outputs": [],
   "source": [
    "# 7. Loop para o preenchimento da rota\n",
    "for n in Nos:\n",
    "    while n not in rota:\n",
    "        # 3. i recebe o último nó da rota\n",
    "        i = rota[-1]\n",
    "        # 4. Escolhe j como nó mais próximo de i que não foi visitado e a chegcada ocorre antes do fechamento\n",
    "        j = proximo_no(Nos, tempo, tempo_viagem, horario_final, rota)\n",
    "        # 5. Adiciona j ao final da rota\n",
    "        rota.append(j)\n",
    "        # 6. Atualiza o tempo de viagem e custo\n",
    "          # Tempo\n",
    "        if rota[-2] == Nos[-1]:  # Caso um novo caminhão realize a viagem\n",
    "            tempo = tempo_inicial  # Reinicia a contagem do tempo\n",
    "        else:\n",
    "            tempo = max(tempo + tempo_viagem[i, j] + tempo_servico[j], horario_inicial[j] + tempo_servico[j])\n",
    "          # Custo\n",
    "        custo += custo_transporte[i, j]"
   ]
  },
  {
   "cell_type": "code",
   "execution_count": 241,
   "id": "77f5e5f4",
   "metadata": {},
   "outputs": [],
   "source": [
    "# 8. Adiciona o nó final ao final da rota\n",
    "#rota.append(Nos[-1])"
   ]
  },
  {
   "cell_type": "code",
   "execution_count": 242,
   "id": "314462e8",
   "metadata": {},
   "outputs": [
    {
     "data": {
      "text/plain": [
       "[0, 2, 6, 0, 5, 6, 0, 1, 6, 0, 4, 6, 0, 3]"
      ]
     },
     "execution_count": 242,
     "metadata": {},
     "output_type": "execute_result"
    }
   ],
   "source": [
    "rota"
   ]
  },
  {
   "cell_type": "code",
   "execution_count": null,
   "id": "a9c7e8cd",
   "metadata": {},
   "outputs": [],
   "source": []
  }
 ],
 "metadata": {
  "kernelspec": {
   "display_name": "Python 3 (ipykernel)",
   "language": "python",
   "name": "python3"
  },
  "language_info": {
   "codemirror_mode": {
    "name": "ipython",
    "version": 3
   },
   "file_extension": ".py",
   "mimetype": "text/x-python",
   "name": "python",
   "nbconvert_exporter": "python",
   "pygments_lexer": "ipython3",
   "version": "3.9.5"
  }
 },
 "nbformat": 4,
 "nbformat_minor": 5
}
