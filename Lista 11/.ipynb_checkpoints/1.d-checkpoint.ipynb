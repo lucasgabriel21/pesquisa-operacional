{
 "cells": [
  {
   "cell_type": "markdown",
   "id": "ab070ae1",
   "metadata": {},
   "source": [
    "## Heurística de economias"
   ]
  },
  {
   "cell_type": "code",
   "execution_count": 180,
   "id": "3afebdc8",
   "metadata": {},
   "outputs": [],
   "source": [
    "# Bibliotecas\n",
    "import xlwings as xw\n",
    "import pandas as pd"
   ]
  },
  {
   "cell_type": "code",
   "execution_count": 181,
   "id": "8f739cb8",
   "metadata": {},
   "outputs": [],
   "source": [
    "# Planilha\n",
    "wb = xw.Book('dados_1.xlsx')\n",
    "sheet = wb.sheets['Plan1']\n",
    "\n",
    "# Dados\n",
    "Clientes = [int(c) for c in sheet.range('C2:G2').value]\n",
    "n = len(Clientes)\n",
    "custo = sheet.range('A2:H9').options(pd.DataFrame).value.stack().to_dict()\n",
    "\n",
    "demanda = sheet.range(\"D12:E18\").options(dict).value\n",
    "capacidade = 1000\n",
    "\n",
    "t0 = 420\n",
    "tempo_viagem = custo.copy()\n",
    "tempo_servico = sheet.range(\"G21:H27\").options(dict).value\n",
    "horario_inicial = sheet.range(\"A21:B27\").options(dict).value\n",
    "horario_final = sheet.range(\"D21:E27\").options(dict).value"
   ]
  },
  {
   "cell_type": "code",
   "execution_count": 185,
   "id": "c3972805",
   "metadata": {},
   "outputs": [],
   "source": [
    "# Lista com os pares de i e j válidos para o problema\n",
    "s = []\n",
    "for i in Clientes:\n",
    "    for j in Clientes:\n",
    "        if i != j:\n",
    "            s.append((i, j))"
   ]
  },
  {
   "cell_type": "code",
   "execution_count": 186,
   "id": "2504a324",
   "metadata": {},
   "outputs": [],
   "source": [
    "# 1. Cálculo das economias\n",
    "def economia(clientes, s, custo):\n",
    "    economias = []\n",
    "    for i in clientes:\n",
    "        for j in clientes:\n",
    "            if i != j:\n",
    "                economias.append(custo[0, j] + custo[i, n+1] - custo[i, j])\n",
    "    \n",
    "    # Criação de dicionário com as chaves de s e valores de economias:\n",
    "    economia_dict = dict(zip(s, economias))\n",
    "    \n",
    "    return economia_dict\n",
    "\n",
    "economias = economia(Clientes, s, custo)"
   ]
  },
  {
   "cell_type": "code",
   "execution_count": 187,
   "id": "a32c01e8",
   "metadata": {},
   "outputs": [],
   "source": [
    "# 2. Lista ordenada em ordem decrescente de economia\n",
    "economias = sorted(economias.items(), key=lambda x: x[1], reverse=True)"
   ]
  },
  {
   "cell_type": "code",
   "execution_count": 188,
   "id": "f04bfa7e",
   "metadata": {},
   "outputs": [],
   "source": [
    "# 3. Marca todos os clientes como não atendidos\n",
    "atendidos = {c: 0 for c in Clientes}"
   ]
  },
  {
   "cell_type": "code",
   "execution_count": 189,
   "id": "7926a52e",
   "metadata": {},
   "outputs": [],
   "source": [
    "rotas = []"
   ]
  },
  {
   "cell_type": "code",
   "execution_count": 190,
   "id": "5a8a7101",
   "metadata": {},
   "outputs": [],
   "source": [
    "# 4.0 Seleciona o arco (i, j) com maior s\n",
    "arco = economias[0][0]\n",
    "i = arco[0]\n",
    "j = arco[1]"
   ]
  },
  {
   "cell_type": "code",
   "execution_count": 191,
   "id": "4e1f6ce4",
   "metadata": {},
   "outputs": [],
   "source": [
    "# 4.0\n",
    "tempo = 420\n",
    "if atendidos[i] == 0 and atendidos[j] == 0:\n",
    "    if demanda[i] + demanda[j] <= capacidade:\n",
    "        if tempo + tempo_viagem[0, i] <= horario_final[i]:\n",
    "            tempo = max(tempo + tempo_viagem[0, i] + tempo_servico[i], horario_inicial[i] + tempo_servico[i])\n",
    "            if tempo + tempo_viagem[i, j] <= horario_final[j]:\n",
    "                rotas.append([0, i, j, n+1])"
   ]
  },
  {
   "cell_type": "code",
   "execution_count": 192,
   "id": "4c9b0f9e",
   "metadata": {},
   "outputs": [
    {
     "data": {
      "text/plain": [
       "((3, 4), 22.0)"
      ]
     },
     "execution_count": 192,
     "metadata": {},
     "output_type": "execute_result"
    }
   ],
   "source": [
    "# 5.0 Remove i e j de economias\n",
    "economias.pop(0)"
   ]
  },
  {
   "cell_type": "code",
   "execution_count": 193,
   "id": "e455c51f",
   "metadata": {},
   "outputs": [],
   "source": [
    "# Atualiza lista de atendidos\n",
    "atendidos[i], atendidos[j] = 1, 1"
   ]
  },
  {
   "cell_type": "code",
   "execution_count": 194,
   "id": "3b198a6c",
   "metadata": {},
   "outputs": [],
   "source": [
    "# 4.1\n",
    "arco = economias[0][0]\n",
    "i = arco[0]\n",
    "j = arco[1]"
   ]
  },
  {
   "cell_type": "code",
   "execution_count": 195,
   "id": "3ef53663",
   "metadata": {},
   "outputs": [],
   "source": [
    "# 4.1\n",
    "tempo = 420\n",
    "if atendidos[i] == 0 and atendidos[j] == 0:\n",
    "    if demanda[i] + demanda[j] <= capacidade:\n",
    "        if tempo + tempo_viagem[0, i] <= horario_final[i]:\n",
    "            tempo = max(tempo + tempo_viagem[0, i] + tempo_servico[i], horario_inicial[i] + tempo_servico[i])\n",
    "            if tempo + tempo_viagem[i, j] <= horario_final[j]:\n",
    "                rotas.append([0, i, j, n+1])"
   ]
  },
  {
   "cell_type": "code",
   "execution_count": 196,
   "id": "21e6ef53",
   "metadata": {},
   "outputs": [],
   "source": [
    "# 5.1\n",
    "economias.pop(0)\n",
    "# Atualiza lista de atendidos\n",
    "atendidos[i], atendidos[j] = 1, 1"
   ]
  },
  {
   "cell_type": "code",
   "execution_count": 199,
   "id": "f4ad0cb7",
   "metadata": {},
   "outputs": [],
   "source": [
    "# 4.2\n",
    "arco = economias[0][0]\n",
    "i = arco[0]\n",
    "j = arco[1]"
   ]
  },
  {
   "cell_type": "code",
   "execution_count": null,
   "id": "db8f4189",
   "metadata": {},
   "outputs": [],
   "source": [
    "# 4.2\n",
    "tempo = 420\n",
    "\n",
    "if atendidos[i] == 0 and atendidos[j] == 0:\n",
    "    if demanda[i] + demanda[j] <= capacidade:\n",
    "        if tempo + tempo_viagem[0, i] <= horario_final[i]:\n",
    "            tempo = max(tempo + tempo_viagem[0, i] + tempo_servico[i], horario_inicial[i] + tempo_servico[i])\n",
    "            if tempo + tempo_viagem[i, j] <= horario_final[j]:\n",
    "                rotas.append([0, i, j, n + 1])\n",
    "                \n",
    "elif atendidos[i] == 1 and atendidos[j] == 1:\n",
    "    if "
   ]
  }
 ],
 "metadata": {
  "kernelspec": {
   "display_name": "Python 3 (ipykernel)",
   "language": "python",
   "name": "python3"
  },
  "language_info": {
   "codemirror_mode": {
    "name": "ipython",
    "version": 3
   },
   "file_extension": ".py",
   "mimetype": "text/x-python",
   "name": "python",
   "nbconvert_exporter": "python",
   "pygments_lexer": "ipython3",
   "version": "3.9.5"
  }
 },
 "nbformat": 4,
 "nbformat_minor": 5
}
