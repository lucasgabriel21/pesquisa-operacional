{
 "cells": [
  {
   "cell_type": "code",
   "execution_count": 34,
   "id": "24e38b89",
   "metadata": {},
   "outputs": [],
   "source": [
    "# Bibliotecas\n",
    "import xlwings as xw\n",
    "import pandas as pd"
   ]
  },
  {
   "cell_type": "code",
   "execution_count": 35,
   "id": "c6f47ded",
   "metadata": {},
   "outputs": [],
   "source": [
    "# Planilha\n",
    "wb = xw.Book('dados_1.xlsx')\n",
    "sheet = wb.sheets['Plan2']\n",
    "\n",
    "# Dados\n",
    "Cidades = [int(c) for c in sheet.range('C2:K2').value]\n",
    "distancias = sheet.range('B2:K11').options(pd.DataFrame).value.stack().to_dict()"
   ]
  },
  {
   "cell_type": "code",
   "execution_count": 36,
   "id": "f368e716",
   "metadata": {},
   "outputs": [],
   "source": [
    "def proxima_cidade(i, lista_cidades, distancias, rota):\n",
    "    cont = 0\n",
    "    for c in lista_cidades:\n",
    "        if c not in rota:\n",
    "            if cont == 0:\n",
    "                a = c\n",
    "                j = c\n",
    "            elif distancias[i, c] <= distancias[i, a]:\n",
    "                a = c\n",
    "                j = c\n",
    "            cont += 1\n",
    "    return j  # j é a cidade mais próxima de i"
   ]
  },
  {
   "cell_type": "code",
   "execution_count": 37,
   "id": "aa0533bf",
   "metadata": {},
   "outputs": [],
   "source": [
    "# 1. Inicializa a rota na primeira cidade\n",
    "rota = [3]\n",
    "# 2. Inicializa contador de distâncias\n",
    "d = 0"
   ]
  },
  {
   "cell_type": "code",
   "execution_count": 38,
   "id": "b00f2bf9",
   "metadata": {},
   "outputs": [],
   "source": [
    "while sum(rota) != sum(Cidades):\n",
    "    # 3. i recebe o último nó da rota\n",
    "    i = rota[-1]\n",
    "    # 4. j recebe o nó mais próximo a i que não foi visitado\n",
    "    j = proxima_cidade(i, Cidades, distancias, rota)\n",
    "    # 5. Adiciona j à rota\n",
    "    rota.append(j)\n",
    "    # 6. Atualiza a distância\n",
    "    d += distancias[rota[-2], rota[-1]]\n",
    "    # 7. Loop ocorre enquanto todos os nós não forem visitados"
   ]
  },
  {
   "cell_type": "code",
   "execution_count": 39,
   "id": "a73bebe6",
   "metadata": {},
   "outputs": [],
   "source": [
    "# 8. Adiciona o primeiro nó à rota\n",
    "rota.append(rota[0])\n",
    "# 9. Cálculo final da distância\n",
    "d += distancias[rota[-2], rota[-1]]"
   ]
  },
  {
   "cell_type": "code",
   "execution_count": 40,
   "id": "6c6f647a",
   "metadata": {},
   "outputs": [
    {
     "data": {
      "text/plain": [
       "[3, 2, 1, 6, 7, 9, 4, 8, 5, 3]"
      ]
     },
     "execution_count": 40,
     "metadata": {},
     "output_type": "execute_result"
    }
   ],
   "source": [
    "rota"
   ]
  },
  {
   "cell_type": "code",
   "execution_count": 41,
   "id": "0c1cf1b6",
   "metadata": {},
   "outputs": [
    {
     "data": {
      "text/plain": [
       "1565.4"
      ]
     },
     "execution_count": 41,
     "metadata": {},
     "output_type": "execute_result"
    }
   ],
   "source": [
    "d"
   ]
  }
 ],
 "metadata": {
  "kernelspec": {
   "display_name": "Python 3 (ipykernel)",
   "language": "python",
   "name": "python3"
  },
  "language_info": {
   "codemirror_mode": {
    "name": "ipython",
    "version": 3
   },
   "file_extension": ".py",
   "mimetype": "text/x-python",
   "name": "python",
   "nbconvert_exporter": "python",
   "pygments_lexer": "ipython3",
   "version": "3.9.5"
  }
 },
 "nbformat": 4,
 "nbformat_minor": 5
}
