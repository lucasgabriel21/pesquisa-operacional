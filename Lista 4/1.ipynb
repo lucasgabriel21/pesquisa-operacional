{
 "cells": [
  {
   "cell_type": "code",
   "execution_count": 1,
   "id": "33c4db75",
   "metadata": {},
   "outputs": [],
   "source": [
    "# Conjuntos\n",
    "Fazendas = ['F1', 'F2']\n",
    "Processamento = ['P1', 'P2', 'P3']\n",
    "Clientes = ['C1', 'C2', 'C3']\n",
    "# Dados\n",
    "c_transporte_F_P = {('F1', 'P1'): 10, ('F1', 'P2'): 8, ('F1', 'P3'): 30,\n",
    "                    ('F2', 'P1'): 27, ('F2', 'P2'): 6, ('F2', 'P3'): 11}\n",
    "c_transporte_P_C = {('P1', 'C1'): 7, ('P1', 'C2'): 5, ('P1', 'C3'): 32,\n",
    "                    ('P2', 'C1'): 5, ('P2', 'C2'): 4, ('P2', 'C3'): 3,\n",
    "                    ('P3', 'C1'): 24, ('P3', 'C2'): 8, ('P3', 'C3'): 6}\n",
    "prod_max_F = {'F1': 80, 'F2': 90}\n",
    "demanda = {'C1': 50, 'C2': 40, 'C3': 65}"
   ]
  },
  {
   "cell_type": "code",
   "execution_count": 2,
   "id": "95c7ed81",
   "metadata": {},
   "outputs": [],
   "source": [
    "# Módulos\n",
    "from pyomo.environ import *\n",
    "from pyomo.opt import SolverFactory"
   ]
  },
  {
   "cell_type": "code",
   "execution_count": 3,
   "id": "a903d081",
   "metadata": {},
   "outputs": [],
   "source": [
    "# Modelo\n",
    "model = ConcreteModel()\n",
    "\n",
    "# Conjuntos\n",
    "model.F = Set(initialize=Fazendas)\n",
    "model.P = Set(initialize=Processamento)\n",
    "model.C = Set(initialize=Clientes)\n",
    "F = model.F\n",
    "P = model.P\n",
    "C = model.C\n",
    "\n",
    "# Parâmetros\n",
    "model.c = Param(F * P, initialize=c_transporte_F_P, within=NonNegativeReals)\n",
    "model.g = Param(P * C, initialize=c_transporte_P_C, within=NonNegativeReals)\n",
    "model.u = Param(F, initialize=prod_max_F, within=NonNegativeReals)\n",
    "model.d = Param(C, initialize=demanda, within=NonNegativeReals)\n",
    "c = model.c\n",
    "g = model.g\n",
    "u = model.u\n",
    "d = model.d\n",
    "\n",
    "# Variáveis de decisão\n",
    "model.x = Var(F, within=NonNegativeReals)\n",
    "model.y = Var(F * P, within=NonNegativeReals)\n",
    "model.z = Var(P * C, within=NonNegativeReals)\n",
    "x = model.x\n",
    "y = model.y\n",
    "z = model.z\n",
    "\n",
    "# Função objetivo\n",
    "model.obj = Objective(sense=minimize,\n",
    "                      expr = (sum(sum(c[i,j] * y[i,j] for i in F) for j in P) + \n",
    "                              sum(sum(g[j,k] * z[j,k] for k in C) for j in P)))\n",
    "\n",
    "# Restrições\n",
    "# Produção máxima\n",
    "model.r_max = ConstraintList()\n",
    "for i in F:\n",
    "    model.r_max.add(expr = x[i] <= u[i])\n",
    "# Demanda\n",
    "model.r_demanda = ConstraintList()\n",
    "for k in C:\n",
    "    model.r_demanda.add(expr = sum(z[j,k] for j in P) >= d[k])\n",
    "# Entra = Sai\n",
    "model.r_balanco = ConstraintList()\n",
    "for j in P:\n",
    "    model.r_balanco.add(expr = sum(y[i,j] for i in F) == sum(z[j,k] for k in C))\n",
    "# Produção\n",
    "model.r_producao = ConstraintList()\n",
    "for i in F:\n",
    "    model.r_producao.add(expr = x[i] == sum(y[i,j] for j in P))\n",
    "\n",
    "# model.pprint()"
   ]
  },
  {
   "cell_type": "code",
   "execution_count": 4,
   "id": "76193f51",
   "metadata": {},
   "outputs": [],
   "source": [
    "# Resolução\n",
    "solver = SolverFactory('cplex')\n",
    "resultado = solver.solve(model, tee = False)"
   ]
  },
  {
   "cell_type": "code",
   "execution_count": 5,
   "id": "161b540e",
   "metadata": {},
   "outputs": [
    {
     "name": "stdout",
     "output_type": "stream",
     "text": [
      "Quantidade produzida nas fazendas:\n",
      "A quantidade produzida em F1 é de 65.0 toneladas.\n",
      "A quantidade produzida em F2 é de 90.0 toneladas.\n",
      "\n",
      "Quantidades transportadas das fazendas aos centros de processamento:\n",
      "0.0 ton. de carne vão da F1 a P1\n",
      "65.0 ton. de carne vão da F1 a P2\n",
      "0.0 ton. de carne vão da F1 a P3\n",
      "0.0 ton. de carne vão da F2 a P1\n",
      "90.0 ton. de carne vão da F2 a P2\n",
      "0.0 ton. de carne vão da F2 a P3\n",
      "\n",
      "Quantidades transportadas dos centros de processamento aos clientes:\n",
      "0.0 ton. de carne vão de P1 a C1\n",
      "0.0 ton. de carne vão de P1 a C2\n",
      "0.0 ton. de carne vão de P1 a C3\n",
      "50.0 ton. de carne vão de P2 a C1\n",
      "40.0 ton. de carne vão de P2 a C2\n",
      "65.0 ton. de carne vão de P2 a C3\n",
      "0.0 ton. de carne vão de P3 a C1\n",
      "0.0 ton. de carne vão de P3 a C2\n",
      "0.0 ton. de carne vão de P3 a C3\n",
      "\n",
      "O custo mínimo obtido é de R$1665.00\n"
     ]
    }
   ],
   "source": [
    "# Apresentação de resultados\n",
    "if (resultado.solver.status == SolverStatus.ok) and (resultado.solver.termination_condition != TerminationCondition.infeasible):\n",
    "    print('Quantidade produzida nas fazendas:')\n",
    "    for i in F:\n",
    "        print('A quantidade produzida em {} é de {} toneladas.'.format(i, value(x[i])))\n",
    "    print()\n",
    "    print('Quantidades transportadas das fazendas aos centros de processamento:')\n",
    "    for i in F:\n",
    "        for j in P:\n",
    "            print('{} ton. de carne vão da {} a {}'.format(value(y[i,j]), i, j))\n",
    "    print()\n",
    "    print('Quantidades transportadas dos centros de processamento aos clientes:')\n",
    "    for j in P:\n",
    "        for k in C:\n",
    "            print('{} ton. de carne vão de {} a {}'.format(value(z[j,k]), j, k))\n",
    "else:\n",
    "    print(resultado.solver.termination_condition)\n",
    "\n",
    "print()\n",
    "print('O custo mínimo obtido é de R${:.2f}'.format(model.obj.expr()))"
   ]
  }
 ],
 "metadata": {
  "kernelspec": {
   "display_name": "Python 3 (ipykernel)",
   "language": "python",
   "name": "python3"
  },
  "language_info": {
   "codemirror_mode": {
    "name": "ipython",
    "version": 3
   },
   "file_extension": ".py",
   "mimetype": "text/x-python",
   "name": "python",
   "nbconvert_exporter": "python",
   "pygments_lexer": "ipython3",
   "version": "3.9.5"
  }
 },
 "nbformat": 4,
 "nbformat_minor": 5
}
