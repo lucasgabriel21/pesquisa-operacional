{
 "cells": [
  {
   "cell_type": "code",
   "execution_count": 68,
   "id": "b6bcbc29",
   "metadata": {},
   "outputs": [],
   "source": [
    "Culturas = ['Milho', 'Arroz', 'Feijão']\n",
    "Fazendas = [1, 2, 3]\n",
    "area_max_C = {'Milho': 660, 'Arroz': 880, 'Feijão': 400}\n",
    "demanda_agua_C = {'Milho': 5.5, 'Arroz': 4, 'Feijão': 3.5}\n",
    "area_F = {1: 400, 2: 650, 3: 350}\n",
    "agua_F = s = {1: 1800, 2: 2200, 3: 950}\n",
    "lucro = {'Milho': 5000, 'Arroz': 4000, 'Feijão': 1800}"
   ]
  },
  {
   "cell_type": "code",
   "execution_count": 69,
   "id": "6a2f95c7",
   "metadata": {},
   "outputs": [],
   "source": [
    "# Módulos\n",
    "from pyomo.environ import *\n",
    "from pyomo.opt import SolverFactory"
   ]
  },
  {
   "cell_type": "code",
   "execution_count": 70,
   "id": "dbe28160",
   "metadata": {
    "scrolled": false
   },
   "outputs": [],
   "source": [
    "# Modelo\n",
    "model = ConcreteModel()\n",
    "\n",
    "# Conjuntos\n",
    "model.C = Set(initialize=Culturas)\n",
    "model.F = Set(initialize=Fazendas)\n",
    "C = model.C\n",
    "F = model.F\n",
    "\n",
    "# Parâmetros\n",
    "model.a = Param(C, initialize=area_max_C, within=NonNegativeReals)\n",
    "model.b = Param(C, initialize=demanda_agua_C, within=NonNegativeReals)\n",
    "model.s = Param(F, initialize=area_F, within=NonNegativeReals)\n",
    "model.l = Param(F, initialize=agua_F, within=NonNegativeReals)\n",
    "model.p = Param(C, initialize=lucro, within=NonNegativeReals)\n",
    "a = model.a\n",
    "b = model.b\n",
    "s = model.s\n",
    "l = model.l\n",
    "p = model.p\n",
    "\n",
    "# Variáveis de decisão\n",
    "model.x = Var(C * F, within=NonNegativeReals)\n",
    "model.y = Var(within=NonNegativeReals)\n",
    "x = model.x\n",
    "y = model.y\n",
    "\n",
    "# Função objetivo\n",
    "model.obj = Objective(sense=maximize,\n",
    "                      expr = sum(sum(p[i] * x[i,j] for i in C) for j in F))\n",
    "\n",
    "# Restrições\n",
    "# Área máxima da cultura\n",
    "model.r_area_C = ConstraintList()\n",
    "for i in C:\n",
    "    model.r_area_C.add(expr = sum(x[i, j] for j in F) <= a[i])\n",
    "# Consumo de água\n",
    "model.r_agua = ConstraintList()\n",
    "for j in F:\n",
    "    model.r_agua.add(expr = sum(b[i] * x[i,j] for i in C) <= l[j])\n",
    "# Área máxima da fazenda\n",
    "model.r_area_F = ConstraintList()\n",
    "for j in F:\n",
    "    model.r_area_F.add(expr = sum(x[i,j] for i in C) <= s[j])\n",
    "# Proporcao (área total é proporcionalmente a mesma)\n",
    "model.r_var = ConstraintList()\n",
    "for j in F:\n",
    "    model.r_var.add(expr = sum(x[i,j] for i in C)/s[j] == y)\n",
    "\n",
    "# model.pprint()"
   ]
  },
  {
   "cell_type": "code",
   "execution_count": 71,
   "id": "a12eabe5",
   "metadata": {
    "scrolled": false
   },
   "outputs": [],
   "source": [
    "# Resolução\n",
    "solver = SolverFactory('cplex')\n",
    "resultado = solver.solve(model, tee=False)"
   ]
  },
  {
   "cell_type": "code",
   "execution_count": 72,
   "id": "b3598484",
   "metadata": {
    "scrolled": false
   },
   "outputs": [
    {
     "name": "stdout",
     "output_type": "stream",
     "text": [
      "Área de Milho plantada na fazenda 1: 271.429 acres.\n",
      "Área de Arroz plantada na fazenda 1: 0.000 acres.\n",
      "Área de Feijão plantada na fazenda 1: 0.000 acres.\n",
      "Percentual de área plantada na fazenda 1: 67.86%\n",
      "\n",
      "Área de Milho plantada na fazenda 2: 290.476 acres.\n",
      "Área de Arroz plantada na fazenda 2: 150.595 acres.\n",
      "Área de Feijão plantada na fazenda 2: 0.000 acres.\n",
      "Percentual de área plantada na fazenda 2: 67.86%\n",
      "\n",
      "Área de Milho plantada na fazenda 3: 0.000 acres.\n",
      "Área de Arroz plantada na fazenda 3: 237.500 acres.\n",
      "Área de Feijão plantada na fazenda 3: 0.000 acres.\n",
      "Percentual de área plantada na fazenda 3: 67.86%\n",
      "\n",
      "O lucro máximo obtido é de R$4361904.76\n"
     ]
    }
   ],
   "source": [
    "# Apresentação de resultados\n",
    "if (resultado.solver.status == SolverStatus.ok) and (resultado.solver.termination_condition != TerminationCondition.infeasible):\n",
    "    for j in F:\n",
    "        for i in C:\n",
    "            print('Área de {} plantada na fazenda {}: {:.3f} acres.'.format(i, j, value(x[i,j])))\n",
    "        print('Percentual de área plantada na fazenda {}: {:.2f}%'.format(j, value(y) * 100))\n",
    "        print()\n",
    "    print('O lucro máximo obtido é de R${:.2f}'.format(value(model.obj)))\n",
    "else:\n",
    "    print(resultado.solver.termination_condition)"
   ]
  }
 ],
 "metadata": {
  "kernelspec": {
   "display_name": "Python 3 (ipykernel)",
   "language": "python",
   "name": "python3"
  },
  "language_info": {
   "codemirror_mode": {
    "name": "ipython",
    "version": 3
   },
   "file_extension": ".py",
   "mimetype": "text/x-python",
   "name": "python",
   "nbconvert_exporter": "python",
   "pygments_lexer": "ipython3",
   "version": "3.9.5"
  }
 },
 "nbformat": 4,
 "nbformat_minor": 5
}
