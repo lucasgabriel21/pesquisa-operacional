{
 "cells": [
  {
   "cell_type": "code",
   "execution_count": 1,
   "id": "47d611dd",
   "metadata": {},
   "outputs": [],
   "source": [
    "# Dados\n",
    "Fornecedores = ['Fornecedor 1', 'Fornecedor 2', 'Fornecedor 3']\n",
    "Materiais = ['Ferro', 'Cromo', 'Carbono', 'Níquel']\n",
    "Semanas = [1, 2, 3]\n",
    "min_composicao = {'Ferro': 0.65, 'Cromo': 0.15, 'Carbono': 0, 'Níquel': 0.03}\n",
    "max_composicao = {'Ferro': 0.82, 'Cromo': 0.18, 'Carbono': 0.06, 'Níquel': 0.1}\n",
    "composicao = {('Fornecedor 1', 'Ferro'): 0.78, ('Fornecedor 1', 'Cromo'): 0.14, ('Fornecedor 1', 'Carbono'): 0.01, ('Fornecedor 1', \n",
    "                                                                                                                    'Níquel'): 0.07,\n",
    "              ('Fornecedor 2', 'Ferro'): 0.79, ('Fornecedor 2', 'Cromo'): 0.17, ('Fornecedor 2', 'Carbono'): 0, ('Fornecedor 2', \n",
    "                                                                                                                    'Níquel'): 0.04,\n",
    "              ('Fornecedor 3', 'Ferro'): 0.62, ('Fornecedor 3', 'Cromo'): 0.2, ('Fornecedor 3', 'Carbono'): 0.02, ('Fornecedor 3', \n",
    "                                                                                                                    'Níquel'): 0.06}\n",
    "custo_fornecedor = {'Fornecedor 1': 3, 'Fornecedor 2': 7, 'Fornecedor 3': 12}\n",
    "disponibilidade = {('Fornecedor 1', 1): 200, ('Fornecedor 1', 2): 250, ('Fornecedor 1', 3): 180,\n",
    "                   ('Fornecedor 2', 1): 300, ('Fornecedor 2', 2): 250, ('Fornecedor 2', 3): 310,\n",
    "                   ('Fornecedor 3', 1): 120, ('Fornecedor 3', 2): 180, ('Fornecedor 3', 3): 180}\n",
    "demanda = {1: 210, 2: 200, 3: 330}\n",
    "custo_estoque = {1: 5, 2: 11, 3: 8}\n",
    "capacidade = 250"
   ]
  },
  {
   "cell_type": "code",
   "execution_count": 2,
   "id": "2184e251",
   "metadata": {},
   "outputs": [],
   "source": [
    "# Módulos\n",
    "from pyomo.environ import *\n",
    "from pyomo.opt import SolverFactory"
   ]
  },
  {
   "cell_type": "code",
   "execution_count": 9,
   "id": "a1f69639",
   "metadata": {
    "scrolled": false
   },
   "outputs": [],
   "source": [
    "# Modelo\n",
    "model = ConcreteModel()\n",
    "\n",
    "# Conjuntos\n",
    "model.F = Set(initialize=Fornecedores)\n",
    "model.M = Set(initialize=Materiais)\n",
    "model.T = Set(initialize=Semanas)\n",
    "\n",
    "# Parâmetros\n",
    "model.l = Param(model.M, initialize=min_composicao, within=NonNegativeReals)\n",
    "model.u = Param(model.M, initialize=max_composicao, within=NonNegativeReals)\n",
    "model.a = Param(model.F * model.M, initialize=composicao, within=NonNegativeReals)\n",
    "model.c = Param(model.F, initialize=custo_fornecedor, within=NonNegativeReals)\n",
    "model.e = Param(model.F * model.T, initialize=disponibilidade, within=NonNegativeReals)\n",
    "model.d = Param(model.T, initialize=demanda, within=NonNegativeReals)\n",
    "model.h = Param(model.T, initialize=custo_estoque, within=NonNegativeReals)\n",
    "\n",
    "# Variáveis de decisão\n",
    "model.x = Var(model.F * model.T, within=NonNegativeReals)\n",
    "model.I = Var(model.T, within=NonNegativeReals)\n",
    "\n",
    "# Função objetivo\n",
    "model.obj = Objective(sense=minimize,\n",
    "                     expr = (sum(sum(model.c[i] * model.x[i,t] for t in model.T) for i in model.F)) +\n",
    "                             sum(model.h[t] * model.I[t] for t in model.T))\n",
    "\n",
    "# Restrições\n",
    "# 1 Entra = Sai\n",
    "model.r_balanco = ConstraintList()\n",
    "model.r_balanco.add(expr = sum(model.x[i,1] for i in model.F) == model.d[1] + model.I[1])\n",
    "for t in [2, 3]:\n",
    "    model.r_balanco.add(expr = model.I[t-1] + sum(model.x[i,t] for i in model.F) == model.d[t] + model.I[t])\n",
    "# 2 Composição da liga (colocar tudo dependente de x em um lado da inequação)\n",
    "model.r_composicao = ConstraintList()\n",
    "for t in model.T:\n",
    "    for j in model.M:\n",
    "        model.r_composicao.add(expr = sum(model.a[i,j] * model.x[i,t] for i in model.F) - \n",
    "                               model.l[j] * sum(model.x[i,t] for i in model.F) >= 0)\n",
    "        model.r_composicao.add(expr = sum(model.a[i,j] * model.x[i,t] for i in model.F) -\n",
    "                               model.u[j] * sum(model.x[i,t] for i in model.F) <= 0)\n",
    "# 3 Capacidade de produção\n",
    "model.r_capacidade = ConstraintList()\n",
    "for t in model.T:\n",
    "    model.r_capacidade.add(expr = sum(model.x[i,t] for i in model.F) <= capacidade)\n",
    "# 4 Disponibilidade de sobra metálica\n",
    "model.r_disponibilidade = ConstraintList()\n",
    "for i in model.F:\n",
    "    for t in model.T:\n",
    "        model.r_disponibilidade.add(expr = model.x[i,t] <= model.e[i,t])\n",
    "\n",
    "# model.pprint()"
   ]
  },
  {
   "cell_type": "code",
   "execution_count": 4,
   "id": "b80a78c5",
   "metadata": {},
   "outputs": [],
   "source": [
    "# Resolução\n",
    "solver = SolverFactory('cplex')\n",
    "resultado = solver.solve(model, tee = False)"
   ]
  },
  {
   "cell_type": "code",
   "execution_count": 7,
   "id": "19f65b02",
   "metadata": {},
   "outputs": [
    {
     "name": "stdout",
     "output_type": "stream",
     "text": [
      "A quantidade comprada no período 1 do Fornecedor 1 foi 160.00\n",
      "A quantidade comprada no período 1 do Fornecedor 2 foi 80.00\n",
      "A quantidade comprada no período 1 do Fornecedor 3 foi 0.00\n",
      "Foram estocados 30.00kg no período 1\n",
      "A quantidade comprada no período 2 do Fornecedor 1 foi 166.67\n",
      "A quantidade comprada no período 2 do Fornecedor 2 foi 83.33\n",
      "A quantidade comprada no período 2 do Fornecedor 3 foi 0.00\n",
      "Foram estocados 80.00kg no período 2\n",
      "A quantidade comprada no período 3 do Fornecedor 1 foi 166.67\n",
      "A quantidade comprada no período 3 do Fornecedor 2 foi 83.33\n",
      "A quantidade comprada no período 3 do Fornecedor 3 foi 0.00\n",
      "Foram estocados 0.00kg no período 3\n",
      "O custo total mínimo atingido por essa configuração é de R$4236.67\n"
     ]
    }
   ],
   "source": [
    "# Apresentação de resultados\n",
    "if (resultado.solver.status == SolverStatus.ok) and (resultado.solver.termination_condition != TerminationCondition.infeasible):\n",
    "    for t in model.T:\n",
    "        for i in model.F:\n",
    "            print('A quantidade comprada no período {} do {} foi {:.2f}'.format(t,i,value(model.x[i,t])))\n",
    "        print('Foram estocados {:.2f}kg no período {}'.format(value(model.I[t]), t))\n",
    "    print('O custo total mínimo atingido por essa configuração é de R${:.2f}'.format(model.obj.expr()))\n",
    "else:\n",
    "    print(resultado.solver.termination_condition)"
   ]
  }
 ],
 "metadata": {
  "kernelspec": {
   "display_name": "Python 3 (ipykernel)",
   "language": "python",
   "name": "python3"
  },
  "language_info": {
   "codemirror_mode": {
    "name": "ipython",
    "version": 3
   },
   "file_extension": ".py",
   "mimetype": "text/x-python",
   "name": "python",
   "nbconvert_exporter": "python",
   "pygments_lexer": "ipython3",
   "version": "3.9.5"
  }
 },
 "nbformat": 4,
 "nbformat_minor": 5
}
