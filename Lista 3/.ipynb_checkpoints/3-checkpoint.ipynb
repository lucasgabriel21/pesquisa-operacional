{
 "cells": [
  {
   "cell_type": "code",
   "execution_count": 164,
   "id": "18784c3d",
   "metadata": {},
   "outputs": [],
   "source": [
    "# Dados\n",
    "# Conjuntos\n",
    "Produtos = [1, 2, 3]\n",
    "Recursos = ['Estamparia', 'Perfuração', 'Montagem', 'Material']\n",
    "# Parâmetros\n",
    "receita = {1: 10, 2: 25, 3: 20}\n",
    "custo = {1: 6, 2: 15, 3:14}\n",
    "min_vendas = {1: 1000, 2: 0, 3: 100}\n",
    "max_vendas = {1: 6000, 2: 500, 3: 1000}\n",
    "recursos = {('Estamparia', 1): 0.03, ('Estamparia', 2): 0.15, ('Estamparia', 3): 0.1,\n",
    "            ('Perfuração', 1): 0.06, ('Perfuração', 2): 0.12, ('Perfuração', 3): 0.1,\n",
    "            ('Montagem', 1): 0.05, ('Montagem', 2): 0.1, ('Montagem', 3): 0.12,\n",
    "            ('Material', 1): 0, ('Material', 2): 2, ('Material', 3): 1.2}\n",
    "estoque = {'Estamparia': 400, 'Perfuração': 400, 'Montagem': 500, 'Material': 2000}"
   ]
  },
  {
   "cell_type": "code",
   "execution_count": 165,
   "id": "e1e4a4fb",
   "metadata": {},
   "outputs": [],
   "source": [
    "# Módulos\n",
    "from pyomo.environ import *\n",
    "from pyomo.opt import SolverFactory"
   ]
  },
  {
   "cell_type": "code",
   "execution_count": 166,
   "id": "25c33f77",
   "metadata": {},
   "outputs": [],
   "source": [
    "# Definição do modelo\n",
    "model = ConcreteModel()\n",
    "\n",
    "# Conjuntos\n",
    "model.P = Set(initialize = Produtos)  # produtos\n",
    "model.R = Set(initialize = Recursos)  # recursos\n",
    "\n",
    "# Parâmetros\n",
    "model.r = Param(model.P, initialize = receita, within = pyo.NonNegativeReals)  # receita\n",
    "model.c = Param(model.P, initialize = custo, within = pyo.NonNegativeReals)  # custo\n",
    "model.L = Param(model.P, initialize = min_vendas, within = pyo.NonNegativeReals)  # min_vendas\n",
    "model.U = Param(model.P, initialize = max_vendas, within = pyo.NonNegativeReals)  # max_vendas\n",
    "model.a = Param(model.R * model.P, initialize = recursos, within = pyo.NonNegativeReals)  # recursos utilizados\n",
    "model.b = Param(model.R, initialize = estoque, within = pyo.NonNegativeReals)  # estoque de recursos disponíveis\n",
    "\n",
    "# Variáveis de decisão\n",
    "    # Quantidade de cada produto a ser fabricada\n",
    "model.x = Var(model.P, within = NonNegativeIntegers)\n",
    "\n",
    "# Função objetivo (Maximizar lucro)\n",
    "model.objective = Objective(sense = maximize, \n",
    "                            expr = sum((model.r[i] - model.c[i]) * model.x[i] for i in model.P))\n",
    "\n",
    "# Restrições\n",
    "    # Estoque\n",
    "model.r_estoque = ConstraintList()\n",
    "for j in model.R:\n",
    "    model.r_estoque.add(expr = sum(model.a[j,i] * model.x[i] for i in model.P) <= model.b[j])\n",
    "    # Demanda\n",
    "model.r_demanda = ConstraintList()\n",
    "for i in model.P:\n",
    "    model.r_demanda.add(expr = model.x[i] <= model.U[i])  # Limite superior\n",
    "    model.r_demanda.add(expr = model.x[i] >= model.L[i])  # Limite inferior\n",
    "\n",
    "# model.pprint()"
   ]
  },
  {
   "cell_type": "code",
   "execution_count": 167,
   "id": "613e53c1",
   "metadata": {
    "scrolled": false
   },
   "outputs": [],
   "source": [
    "# Resolução\n",
    "solver = SolverFactory('cplex')\n",
    "resultado = solver.solve(model, tee = False)"
   ]
  },
  {
   "cell_type": "code",
   "execution_count": 170,
   "id": "8275fad9",
   "metadata": {},
   "outputs": [
    {
     "name": "stdout",
     "output_type": "stream",
     "text": [
      "Quantidade a ser produzida do produto 1: 5500.0\n",
      "Quantidade a ser produzida do produto 2: 500.0\n",
      "Quantidade a ser produzida do produto 3: 100.0\n",
      "O lucro máximo obtido é R$27600.00.\n"
     ]
    }
   ],
   "source": [
    "# Apresentação de resultados\n",
    "if (resultado.solver.status == SolverStatus.ok) and (resultado.solver.termination_condition != TerminationCondition.infeasible):\n",
    "    for i in model.P:\n",
    "        print('Quantidade a ser produzida do produto {}: {}'.format(i, value(model.x[i])))\n",
    "    print('O lucro máximo obtido é R${:.2f}.'.format(model.objective.expr()))\n",
    "else:\n",
    "    print(resultado.solver.termination_condition)"
   ]
  }
 ],
 "metadata": {
  "kernelspec": {
   "display_name": "Python 3 (ipykernel)",
   "language": "python",
   "name": "python3"
  },
  "language_info": {
   "codemirror_mode": {
    "name": "ipython",
    "version": 3
   },
   "file_extension": ".py",
   "mimetype": "text/x-python",
   "name": "python",
   "nbconvert_exporter": "python",
   "pygments_lexer": "ipython3",
   "version": "3.9.5"
  }
 },
 "nbformat": 4,
 "nbformat_minor": 5
}
