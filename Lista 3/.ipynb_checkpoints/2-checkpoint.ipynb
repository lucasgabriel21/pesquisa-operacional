{
 "cells": [
  {
   "cell_type": "code",
   "execution_count": 46,
   "id": "50e28704",
   "metadata": {},
   "outputs": [],
   "source": [
    "# Conjuntos\n",
    "materia_prima = ['Lingote 1', 'Lingote 2', 'Lingote 3', 'Lingote 4', 'Aço de sucata',\n",
    "                 'Liga 1', 'Liga 2', 'Liga 3']\n",
    "disponibilidade = {'Lingote 1': 5, 'Lingote 2': 3, 'Lingote 3': 4, 'Lingote 4': 6,\n",
    "                   'Aço de sucata': 100, 'Liga 1': 100, 'Liga 2': 100, 'Liga 3': 100}\n",
    "custo = {'Lingote 1': 150, 'Lingote 2': 138, 'Lingote 3': 115, 'Lingote 4': 75,\n",
    "         'Aço de sucata': 50, 'Liga 1': 270, 'Liga 2': 215, 'Liga 3': 186}\n",
    "a_carbono = {'Lingote 1': 0.05, 'Lingote 2': 0.04, 'Lingote 3': 0.05, 'Lingote 4': 0.03,\n",
    "             'Aço de sucata': 0.03, 'Liga 1': 0.09, 'Liga 2': 0.07, 'Liga 3': 0.05}\n",
    "b_molibdenio = {'Lingote 1': 0.03, 'Lingote 2': 0.03, 'Lingote 3': 0.04, 'Lingote 4': 0.04,\n",
    "                'Aço de sucata': 0.09, 'Liga 1': 0.06, 'Liga 2': 0.07, 'Liga 3': 0.08}\n",
    "demanda = 25\n",
    "l_carbono = 0.05\n",
    "l_molibdenio = 0.04"
   ]
  },
  {
   "cell_type": "code",
   "execution_count": 47,
   "id": "c5d3f731",
   "metadata": {},
   "outputs": [],
   "source": [
    "# Módulos\n",
    "from pyomo.environ import *\n",
    "from pyomo.opt import SolverFactory"
   ]
  },
  {
   "cell_type": "code",
   "execution_count": 48,
   "id": "869ed06c",
   "metadata": {
    "scrolled": false
   },
   "outputs": [],
   "source": [
    "# Modelo\n",
    "model = ConcreteModel()\n",
    "\n",
    "# Conjuntos\n",
    "model.M = Set(initialize = materia_prima)\n",
    "M = model.M\n",
    "\n",
    "# Parâmetros\n",
    "model.d = Param(model.M, initialize = disponibilidade, within = NonNegativeReals)\n",
    "d = model.d\n",
    "model.c = Param(model.M, initialize = custo, within = NonNegativeReals)\n",
    "c = model.c\n",
    "model.a = Param(model.M, initialize = a_carbono, within = NonNegativeReals)\n",
    "a = model.a\n",
    "model.b = Param(model.M, initialize = b_molibdenio, within = NonNegativeReals)\n",
    "b = model.b\n",
    "\n",
    "# Variáveis de decisão\n",
    "model.x = Var(model.M, within = NonNegativeIntegers)\n",
    "x = model.x\n",
    "model.y = Var(model.M, within = NonNegativeIntegers)\n",
    "y = model.y\n",
    "model.z = Var(model.M, within = Binary)\n",
    "z = model.z\n",
    "model.w = Var(within = Binary)\n",
    "w = model.w\n",
    "\n",
    "# Objetivo\n",
    "model.obj = Objective(sense = minimize,\n",
    "                     expr = sum(c[i] * y[i] for i in M))\n",
    "\n",
    "# Restrições\n",
    "    # Demanda\n",
    "model.r_demanda = Constraint(rule = sum(x[i] for i in M) == demanda)\n",
    "    # Composição\n",
    "model.r_carbo = Constraint(rule = l_carbono * demanda - 10 * (1 - w) <= sum(a[i] * x[i] for i in M))\n",
    "model.r_molib = Constraint(rule = l_molibdenio * demanda - 10 * w <= sum(b[i] * x[i] for i in M))\n",
    "    # Disponibilidade\n",
    "model.r_dispo = ConstraintList()\n",
    "for i in ['Lingote 1', 'Lingote 2', 'Lingote 3', 'Lingote 4']:\n",
    "    model.r_dispo.add(expr = y[i] == d[i] * z[i])\n",
    "for i in M:\n",
    "    model.r_dispo.add(expr = x[i] <= y[i])\n",
    "\n",
    "# model.pprint()"
   ]
  },
  {
   "cell_type": "code",
   "execution_count": 49,
   "id": "27409d6f",
   "metadata": {},
   "outputs": [],
   "source": [
    "# Resolução\n",
    "solver = SolverFactory('cplex')\n",
    "resultado = solver.solve(model, tee = False)"
   ]
  },
  {
   "cell_type": "code",
   "execution_count": 50,
   "id": "7f140c49",
   "metadata": {},
   "outputs": [
    {
     "name": "stdout",
     "output_type": "stream",
     "text": [
      "Qtd. de Lingote 1 utilizado(a): -0 ton\n",
      "Lingote 1 comprado(a): 0 ton\n",
      "Qtd. de Lingote 2 utilizado(a): -0 ton\n",
      "Lingote 2 comprado(a): 0 ton\n",
      "Qtd. de Lingote 3 utilizado(a): -0 ton\n",
      "Lingote 3 comprado(a): 0 ton\n",
      "Qtd. de Lingote 4 utilizado(a): 0 ton\n",
      "Lingote 4 comprado(a): 0 ton\n",
      "Qtd. de Aço de sucata utilizado(a): 25 ton\n",
      "Aço de sucata comprado(a): 25 ton\n",
      "Qtd. de Liga 1 utilizado(a): -0 ton\n",
      "Liga 1 comprado(a): -0 ton\n",
      "Qtd. de Liga 2 utilizado(a): -0 ton\n",
      "Liga 2 comprado(a): -0 ton\n",
      "Qtd. de Liga 3 utilizado(a): -0 ton\n",
      "Liga 3 comprado(a): -0 ton\n",
      "\n",
      "O custo mínimo obtido é R$1250.00.\n"
     ]
    }
   ],
   "source": [
    "# Apresentação de resultados\n",
    "if (resultado.solver.status == SolverStatus.ok) and (resultado.solver.termination_condition != TerminationCondition.infeasible):\n",
    "    for i in M:\n",
    "        print('Qtd. de {} utilizado(a): {:.0f} ton'.format(i, value(x[i])))\n",
    "        print('{} comprado(a): {:.0f} ton'.format(i, value(y[i])))\n",
    "    print()\n",
    "    print('O custo mínimo obtido é R${:.2f}.'.format(model.obj.expr()))\n",
    "else:\n",
    "    print(resultado.solver.termination_condition)\n",
    "#print('Binários')\n",
    "#for i in ['Lingote 1', 'Lingote 2', 'Lingote 3', 'Lingote 4']:\n",
    "#    print('Decisão binária de compra de {}: {}'.format(i, value(model.z[i])))"
   ]
  }
 ],
 "metadata": {
  "kernelspec": {
   "display_name": "Python 3 (ipykernel)",
   "language": "python",
   "name": "python3"
  },
  "language_info": {
   "codemirror_mode": {
    "name": "ipython",
    "version": 3
   },
   "file_extension": ".py",
   "mimetype": "text/x-python",
   "name": "python",
   "nbconvert_exporter": "python",
   "pygments_lexer": "ipython3",
   "version": "3.9.5"
  }
 },
 "nbformat": 4,
 "nbformat_minor": 5
}
